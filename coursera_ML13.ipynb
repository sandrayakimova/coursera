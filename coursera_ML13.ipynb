{
 "cells": [
  {
   "cell_type": "markdown",
   "metadata": {},
   "source": [
    "# Задание на coursera #"
   ]
  },
  {
   "cell_type": "markdown",
   "metadata": {},
   "source": [
    "##  Градиентный бустинг над решающими деревьями ##"
   ]
  },
  {
   "cell_type": "markdown",
   "metadata": {},
   "source": [
    "Цель:\n",
    "* работать с градиентным бустингом и подбирать его гиперпараметры\n",
    "* сравнивать разные способы построения композиций\n",
    "* понимать, в каком случае лучше использовать случайный лес, а в каком — градиентный бустинг\n",
    "* использовать метрику log-loss\n",
    "    "
   ]
  },
  {
   "cell_type": "code",
   "execution_count": 1,
   "metadata": {},
   "outputs": [],
   "source": [
    "import numpy as np\n",
    "import pandas as pd\n",
    "import matplotlib.pyplot as plt\n",
    "from sklearn.metrics import log_loss\n",
    "from sklearn.model_selection import train_test_split\n",
    "from sklearn.ensemble import GradientBoostingClassifier, RandomForestClassifier\n",
    "from typing import List, Tuple\n"
   ]
  },
  {
   "cell_type": "markdown",
   "metadata": {},
   "source": [
    "**Загрузите выборку из файла gbm-data.csv с помощью pandas и преобразуйте ее в массив numpy (параметр values у датафрейма).**"
   ]
  },
  {
   "cell_type": "markdown",
   "metadata": {},
   "source": [
    "*В первой колонке файла с данными записано, была или нет реакция. Все остальные колонки (d1 - d1776) содержат различные характеристики молекулы, такие как размер, форма и т.д. Разбейте выборку на обучающую и тестовую, используя функцию train_test_split с параметрами test_size = 0.8 и random_state = 241.*"
   ]
  },
  {
   "cell_type": "code",
   "execution_count": 2,
   "metadata": {},
   "outputs": [
    {
     "data": {
      "text/html": [
       "<div>\n",
       "<style scoped>\n",
       "    .dataframe tbody tr th:only-of-type {\n",
       "        vertical-align: middle;\n",
       "    }\n",
       "\n",
       "    .dataframe tbody tr th {\n",
       "        vertical-align: top;\n",
       "    }\n",
       "\n",
       "    .dataframe thead th {\n",
       "        text-align: right;\n",
       "    }\n",
       "</style>\n",
       "<table border=\"1\" class=\"dataframe\">\n",
       "  <thead>\n",
       "    <tr style=\"text-align: right;\">\n",
       "      <th></th>\n",
       "      <th>Activity</th>\n",
       "      <th>D1</th>\n",
       "      <th>D2</th>\n",
       "      <th>D3</th>\n",
       "      <th>D4</th>\n",
       "      <th>D5</th>\n",
       "      <th>D6</th>\n",
       "      <th>D7</th>\n",
       "      <th>D8</th>\n",
       "      <th>D9</th>\n",
       "      <th>...</th>\n",
       "      <th>D1767</th>\n",
       "      <th>D1768</th>\n",
       "      <th>D1769</th>\n",
       "      <th>D1770</th>\n",
       "      <th>D1771</th>\n",
       "      <th>D1772</th>\n",
       "      <th>D1773</th>\n",
       "      <th>D1774</th>\n",
       "      <th>D1775</th>\n",
       "      <th>D1776</th>\n",
       "    </tr>\n",
       "  </thead>\n",
       "  <tbody>\n",
       "    <tr>\n",
       "      <th>0</th>\n",
       "      <td>1</td>\n",
       "      <td>0.000000</td>\n",
       "      <td>0.497009</td>\n",
       "      <td>0.10</td>\n",
       "      <td>0.0</td>\n",
       "      <td>0.132956</td>\n",
       "      <td>0.678031</td>\n",
       "      <td>0.273166</td>\n",
       "      <td>0.585445</td>\n",
       "      <td>0.743663</td>\n",
       "      <td>...</td>\n",
       "      <td>0</td>\n",
       "      <td>0</td>\n",
       "      <td>0</td>\n",
       "      <td>0</td>\n",
       "      <td>0</td>\n",
       "      <td>0</td>\n",
       "      <td>0</td>\n",
       "      <td>0</td>\n",
       "      <td>0</td>\n",
       "      <td>0</td>\n",
       "    </tr>\n",
       "    <tr>\n",
       "      <th>1</th>\n",
       "      <td>1</td>\n",
       "      <td>0.366667</td>\n",
       "      <td>0.606291</td>\n",
       "      <td>0.05</td>\n",
       "      <td>0.0</td>\n",
       "      <td>0.111209</td>\n",
       "      <td>0.803455</td>\n",
       "      <td>0.106105</td>\n",
       "      <td>0.411754</td>\n",
       "      <td>0.836582</td>\n",
       "      <td>...</td>\n",
       "      <td>1</td>\n",
       "      <td>1</td>\n",
       "      <td>1</td>\n",
       "      <td>1</td>\n",
       "      <td>0</td>\n",
       "      <td>1</td>\n",
       "      <td>0</td>\n",
       "      <td>0</td>\n",
       "      <td>1</td>\n",
       "      <td>0</td>\n",
       "    </tr>\n",
       "    <tr>\n",
       "      <th>2</th>\n",
       "      <td>1</td>\n",
       "      <td>0.033300</td>\n",
       "      <td>0.480124</td>\n",
       "      <td>0.00</td>\n",
       "      <td>0.0</td>\n",
       "      <td>0.209791</td>\n",
       "      <td>0.610350</td>\n",
       "      <td>0.356453</td>\n",
       "      <td>0.517720</td>\n",
       "      <td>0.679051</td>\n",
       "      <td>...</td>\n",
       "      <td>0</td>\n",
       "      <td>0</td>\n",
       "      <td>0</td>\n",
       "      <td>0</td>\n",
       "      <td>0</td>\n",
       "      <td>0</td>\n",
       "      <td>0</td>\n",
       "      <td>0</td>\n",
       "      <td>0</td>\n",
       "      <td>0</td>\n",
       "    </tr>\n",
       "    <tr>\n",
       "      <th>3</th>\n",
       "      <td>1</td>\n",
       "      <td>0.000000</td>\n",
       "      <td>0.538825</td>\n",
       "      <td>0.00</td>\n",
       "      <td>0.5</td>\n",
       "      <td>0.196344</td>\n",
       "      <td>0.724230</td>\n",
       "      <td>0.235606</td>\n",
       "      <td>0.288764</td>\n",
       "      <td>0.805110</td>\n",
       "      <td>...</td>\n",
       "      <td>0</td>\n",
       "      <td>0</td>\n",
       "      <td>0</td>\n",
       "      <td>0</td>\n",
       "      <td>0</td>\n",
       "      <td>0</td>\n",
       "      <td>0</td>\n",
       "      <td>0</td>\n",
       "      <td>0</td>\n",
       "      <td>0</td>\n",
       "    </tr>\n",
       "    <tr>\n",
       "      <th>4</th>\n",
       "      <td>0</td>\n",
       "      <td>0.100000</td>\n",
       "      <td>0.517794</td>\n",
       "      <td>0.00</td>\n",
       "      <td>0.0</td>\n",
       "      <td>0.494734</td>\n",
       "      <td>0.781422</td>\n",
       "      <td>0.154361</td>\n",
       "      <td>0.303809</td>\n",
       "      <td>0.812646</td>\n",
       "      <td>...</td>\n",
       "      <td>0</td>\n",
       "      <td>0</td>\n",
       "      <td>0</td>\n",
       "      <td>0</td>\n",
       "      <td>0</td>\n",
       "      <td>0</td>\n",
       "      <td>0</td>\n",
       "      <td>0</td>\n",
       "      <td>0</td>\n",
       "      <td>0</td>\n",
       "    </tr>\n",
       "  </tbody>\n",
       "</table>\n",
       "<p>5 rows × 1777 columns</p>\n",
       "</div>"
      ],
      "text/plain": [
       "   Activity        D1        D2    D3   D4        D5        D6        D7  \\\n",
       "0         1  0.000000  0.497009  0.10  0.0  0.132956  0.678031  0.273166   \n",
       "1         1  0.366667  0.606291  0.05  0.0  0.111209  0.803455  0.106105   \n",
       "2         1  0.033300  0.480124  0.00  0.0  0.209791  0.610350  0.356453   \n",
       "3         1  0.000000  0.538825  0.00  0.5  0.196344  0.724230  0.235606   \n",
       "4         0  0.100000  0.517794  0.00  0.0  0.494734  0.781422  0.154361   \n",
       "\n",
       "         D8        D9  ...  D1767  D1768  D1769  D1770  D1771  D1772  D1773  \\\n",
       "0  0.585445  0.743663  ...      0      0      0      0      0      0      0   \n",
       "1  0.411754  0.836582  ...      1      1      1      1      0      1      0   \n",
       "2  0.517720  0.679051  ...      0      0      0      0      0      0      0   \n",
       "3  0.288764  0.805110  ...      0      0      0      0      0      0      0   \n",
       "4  0.303809  0.812646  ...      0      0      0      0      0      0      0   \n",
       "\n",
       "   D1774  D1775  D1776  \n",
       "0      0      0      0  \n",
       "1      0      1      0  \n",
       "2      0      0      0  \n",
       "3      0      0      0  \n",
       "4      0      0      0  \n",
       "\n",
       "[5 rows x 1777 columns]"
      ]
     },
     "execution_count": 2,
     "metadata": {},
     "output_type": "execute_result"
    }
   ],
   "source": [
    "data = pd.read_csv(\"gbm-data.csv\")\n",
    "data.head()"
   ]
  },
  {
   "cell_type": "code",
   "execution_count": 6,
   "metadata": {},
   "outputs": [],
   "source": [
    "X = data.drop('Activity',axis = 1).values\n",
    "y = data['Activity'].values"
   ]
  },
  {
   "cell_type": "code",
   "execution_count": 7,
   "metadata": {},
   "outputs": [],
   "source": [
    "X_train, X_test, y_train, y_test = train_test_split(X, y, test_size=0.8, random_state=241)"
   ]
  },
  {
   "cell_type": "markdown",
   "metadata": {},
   "source": [
    "**Обучите GradientBoostingClassifier**"
   ]
  },
  {
   "cell_type": "markdown",
   "metadata": {},
   "source": [
    "**для каждого значения learning_rate из списка [1, 0.5, 0.3, 0.2, 0.1] проделайте следующее:**"
   ]
  },
  {
   "cell_type": "markdown",
   "metadata": {},
   "source": [
    "Используйте метод staged_decision_function для предсказания качества на обучающей и тестовой выборке на каждой итерации."
   ]
  },
  {
   "cell_type": "code",
   "execution_count": 9,
   "metadata": {},
   "outputs": [],
   "source": [
    "def log_loss_results(model, X: np.array, y: np.array) -> List[float]:\n",
    "    return [log_loss(y, sigmoid(y_pred)) for y_pred in model.staged_decision_function(X)]"
   ]
  },
  {
   "cell_type": "markdown",
   "metadata": {},
   "source": [
    "Преобразуйте полученное предсказание с помощью сигмоидной функции по формуле 1 / (1 + e^{−y_pred}), где y_pred — предсказанное значение."
   ]
  },
  {
   "cell_type": "code",
   "execution_count": 10,
   "metadata": {},
   "outputs": [],
   "source": [
    "def sigmoid(y_pred: np.array) -> np.array:\n",
    "    return 1.0 / (1.0 + np.exp(-y_pred))"
   ]
  },
  {
   "cell_type": "markdown",
   "metadata": {},
   "source": [
    "Вычислите и постройте график значений log-loss (которую можно посчитать с помощью функции sklearn.metrics.log_loss) на обучающей и тестовой выборках, а также найдите минимальное значение метрики и номер итерации, на которой оно достигается.\n"
   ]
  },
  {
   "cell_type": "code",
   "execution_count": 11,
   "metadata": {},
   "outputs": [
    {
     "name": "stdout",
     "output_type": "stream",
     "text": [
      "Learning rate: 1\n",
      "      Iter       Train Loss   Remaining Time \n",
      "         1           1.0190           26.95s\n",
      "         2           0.9192           20.70s\n",
      "         3           0.8272           19.77s\n",
      "         4           0.7834           20.94s\n",
      "         5           0.7109           20.13s\n",
      "         6           0.6368           19.44s\n",
      "         7           0.5797           19.08s\n",
      "         8           0.5610           18.90s\n",
      "         9           0.5185           18.52s\n",
      "        10           0.4984           18.28s\n",
      "        20           0.1999           16.64s\n",
      "        30           0.1313           17.08s\n",
      "        40           0.0790           15.84s\n",
      "        50           0.0511           14.78s\n",
      "        60           0.0352           13.87s\n",
      "        70           0.0245           13.06s\n",
      "        80           0.0162           12.33s\n",
      "        90           0.0114           11.66s\n",
      "       100           0.0077           11.01s\n",
      "       200           0.0002            3.58s\n"
     ]
    },
    {
     "data": {
      "image/png": "[encoded data removed]",
      "text/plain": [
       "<Figure size 432x288 with 1 Axes>"
      ]
     },
     "metadata": {
      "needs_background": "light"
     },
     "output_type": "display_data"
    },
    {
     "name": "stdout",
     "output_type": "stream",
     "text": [
      "Min loss 0.58 at n_estimators=1\n",
      "\n",
      "Learning rate: 0.5\n",
      "      Iter       Train Loss   Remaining Time \n",
      "         1           1.1255           15.15s\n",
      "         2           1.0035           15.03s\n",
      "         3           0.9386           15.69s\n",
      "         4           0.8844           17.43s\n",
      "         5           0.8381           20.51s\n",
      "         6           0.7995           19.91s\n",
      "         7           0.7559           19.39s\n",
      "         8           0.7205           18.92s\n",
      "         9           0.6958           18.64s\n",
      "        10           0.6725           19.10s\n",
      "        20           0.4672           19.74s\n",
      "        30           0.3179           20.57s\n",
      "        40           0.2274           23.92s\n",
      "        50           0.1774           20.87s\n",
      "        60           0.1394           18.68s\n",
      "        70           0.1050           17.56s\n",
      "        80           0.0805           15.92s\n",
      "        90           0.0650           14.59s\n",
      "       100           0.0511           13.46s\n",
      "       200           0.0058            4.12s\n"
     ]
    },
    {
     "data": {
      "image/png": "[encoded data removed]",
      "text/plain": [
       "<Figure size 432x288 with 1 Axes>"
      ]
     },
     "metadata": {
      "needs_background": "light"
     },
     "output_type": "display_data"
    },
    {
     "name": "stdout",
     "output_type": "stream",
     "text": [
      "Min loss 0.56 at n_estimators=7\n",
      "\n",
      "Learning rate: 0.3\n",
      "      Iter       Train Loss   Remaining Time \n",
      "         1           1.2095           17.44s\n",
      "         2           1.1006           15.86s\n",
      "         3           1.0240           15.26s\n",
      "         4           0.9729           15.16s\n",
      "         5           0.9387           15.42s\n",
      "         6           0.8948           15.66s\n",
      "         7           0.8621           15.51s\n",
      "         8           0.8360           15.86s\n",
      "         9           0.8171           15.90s\n",
      "        10           0.7883           15.82s\n",
      "        20           0.6029           15.88s\n",
      "        30           0.4760           15.16s\n",
      "        40           0.3879           14.96s\n",
      "        50           0.3325           14.39s\n",
      "        60           0.2759           13.72s\n",
      "        70           0.2304           13.62s\n",
      "        80           0.1969           13.00s\n",
      "        90           0.1718           12.38s\n",
      "       100           0.1404           11.62s\n",
      "       200           0.0358            3.91s\n"
     ]
    },
    {
     "data": {
      "image/png": "[encoded data removed]",
      "text/plain": [
       "<Figure size 432x288 with 1 Axes>"
      ]
     },
     "metadata": {
      "needs_background": "light"
     },
     "output_type": "display_data"
    },
    {
     "name": "stdout",
     "output_type": "stream",
     "text": [
      "Min loss 0.54 at n_estimators=11\n",
      "\n",
      "Learning rate: 0.2\n",
      "      Iter       Train Loss   Remaining Time \n",
      "         1           1.2613           15.90s\n",
      "         2           1.1715           18.51s\n",
      "         3           1.1009           18.22s\n",
      "         4           1.0529           17.17s\n",
      "         5           1.0130           16.48s\n",
      "         6           0.9740           16.17s\n",
      "         7           0.9475           16.22s\n",
      "         8           0.9197           15.91s\n",
      "         9           0.8979           15.82s\n",
      "        10           0.8730           15.67s\n",
      "        20           0.7207           15.36s\n",
      "        30           0.6055           14.63s\n",
      "        40           0.5244           14.31s\n",
      "        50           0.4501           14.19s\n",
      "        60           0.3908           13.40s\n",
      "        70           0.3372           12.60s\n",
      "        80           0.3009           12.34s\n",
      "        90           0.2603           11.64s\n",
      "       100           0.2327           10.84s\n",
      "       200           0.0835            3.46s\n"
     ]
    },
    {
     "data": {
      "image/png": "[encoded data removed]",
      "text/plain": [
       "<Figure size 432x288 with 1 Axes>"
      ]
     },
     "metadata": {
      "needs_background": "light"
     },
     "output_type": "display_data"
    },
    {
     "name": "stdout",
     "output_type": "stream",
     "text": [
      "Min loss 0.53 at n_estimators=37\n",
      "\n",
      "Learning rate: 0.1\n",
      "      Iter       Train Loss   Remaining Time \n",
      "         1           1.3199           16.41s\n",
      "         2           1.2645           15.20s\n",
      "         3           1.2170           15.14s\n",
      "         4           1.1775           15.31s\n",
      "         5           1.1404           15.19s\n",
      "         6           1.1106           15.05s\n",
      "         7           1.0844           14.93s\n",
      "         8           1.0617           15.09s\n",
      "         9           1.0411           14.92s\n",
      "        10           1.0223           14.82s\n",
      "        20           0.8864           14.35s\n",
      "        30           0.7844           13.92s\n",
      "        40           0.7176           13.48s\n",
      "        50           0.6590           12.93s\n",
      "        60           0.6120           12.38s\n",
      "        70           0.5599           11.77s\n",
      "        80           0.5242           11.19s\n",
      "        90           0.4829           10.56s\n",
      "       100           0.4473            9.92s\n",
      "       200           0.2379            3.50s\n"
     ]
    },
    {
     "data": {
      "image/png": "[encoded data removed]",
      "text/plain": [
       "<Figure size 432x288 with 1 Axes>"
      ]
     },
     "metadata": {
      "needs_background": "light"
     },
     "output_type": "display_data"
    },
    {
     "name": "stdout",
     "output_type": "stream",
     "text": [
      "Min loss 0.53 at n_estimators=52\n",
      "\n"
     ]
    }
   ],
   "source": [
    "def plot_loss(learning_rate: float, test_loss: List[float], train_loss: List[float]) -> None:\n",
    "    plt.figure()\n",
    "    plt.plot(test_loss, \"r\", linewidth=2)\n",
    "    plt.plot(train_loss, \"g\", linewidth=2)\n",
    "    plt.legend([\"test\", \"train\"])\n",
    "    plt.show()\n",
    "min_loss_results = {}\n",
    "for lr in [1, 0.5, 0.3, 0.2, 0.1]:\n",
    "    print(f\"Learning rate: {lr}\")\n",
    "    model = GradientBoostingClassifier(learning_rate=lr, n_estimators=250, verbose=True, random_state=241)\n",
    "    model.fit(X_train, y_train)\n",
    "    train_loss = log_loss_results(model, X_train, y_train)\n",
    "    test_loss = log_loss_results(model, X_test, y_test)\n",
    "    plot_loss(lr, test_loss, train_loss)\n",
    "    min_loss_value = min(test_loss)\n",
    "    min_loss_index = test_loss.index(min_loss_value) + 1\n",
    "    min_loss_results[lr] = min_loss_value, min_loss_index\n",
    "    print(f\"Min loss {min_loss_value:.2f} at n_estimators={min_loss_index}\\n\")\n"
   ]
  },
  {
   "cell_type": "markdown",
   "metadata": {},
   "source": [
    "**Как можно охарактеризовать график качества на тестовой выборке, начиная с некоторой итерации: переобучение (overfitting) или недообучение (underfitting)? В ответе укажите одно из слов overfitting либо underfitting.**"
   ]
  },
  {
   "cell_type": "markdown",
   "metadata": {},
   "source": [
    "overfitting"
   ]
  },
  {
   "cell_type": "markdown",
   "metadata": {},
   "source": [
    "**Приведите минимальное значение log-loss на тестовой выборке и номер итерации, на котором оно достигается, при learning_rate = 0.2.**"
   ]
  },
  {
   "cell_type": "markdown",
   "metadata": {},
   "source": [
    "Min loss 0.53 at n_estimators=37"
   ]
  },
  {
   "cell_type": "code",
   "execution_count": 12,
   "metadata": {},
   "outputs": [],
   "source": [
    "min_loss_value, min_loss_index = min_loss_results[0.2]"
   ]
  },
  {
   "cell_type": "markdown",
   "metadata": {},
   "source": [
    "**На этих же данных обучите RandomForestClassifier с количеством деревьев, равным количеству итераций, на котором достигается наилучшее качество у градиентного бустинга из предыдущего пункта, c random_state=241 и остальными параметрами по умолчанию. Какое значение log-loss на тесте получается у этого случайного леса? (Не забывайте, что предсказания нужно получать с помощью функции predict_proba. В данном случае брать сигмоиду от оценки вероятности класса не нужно)**"
   ]
  },
  {
   "cell_type": "code",
   "execution_count": 14,
   "metadata": {},
   "outputs": [
    {
     "data": {
      "text/plain": [
       "0.5410941951182815"
      ]
     },
     "execution_count": 14,
     "metadata": {},
     "output_type": "execute_result"
    }
   ],
   "source": [
    "model = RandomForestClassifier(n_estimators=min_loss_index, random_state=241)\n",
    "model.fit(X_train, y_train)\n",
    "y_pred = model.predict_proba(X_test)[:, 1]\n",
    "test_loss = log_loss(y_test, y_pred)\n",
    "test_loss"
   ]
  }
 ],
 "metadata": {
  "kernelspec": {
   "display_name": "Python 3",
   "language": "python",
   "name": "python3"
  },
  "language_info": {
   "codemirror_mode": {
    "name": "ipython",
    "version": 3
   },
   "file_extension": ".py",
   "mimetype": "text/x-python",
   "name": "python",
   "nbconvert_exporter": "python",
   "pygments_lexer": "ipython3",
   "version": "3.8.3"
  }
 },
 "nbformat": 4,
 "nbformat_minor": 4
}
