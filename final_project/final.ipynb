{
 "cells": [
  {
   "cell_type": "code",
   "execution_count": 2,
   "metadata": {},
   "outputs": [],
   "source": [
    "import datetime\n",
    "import numpy as np\n",
    "import pandas as pd\n",
    "\n",
    "from sklearn.model_selection import KFold, cross_val_score\n",
    "from sklearn.preprocessing import StandardScaler\n",
    "from sklearn.ensemble import GradientBoostingClassifier\n",
    "from sklearn.linear_model import LogisticRegression\n",
    "\n",
    "%matplotlib inline"
   ]
  },
  {
   "cell_type": "markdown",
   "metadata": {},
   "source": [
    "## Подход 1: Градиентный бустинг ##"
   ]
  },
  {
   "cell_type": "markdown",
   "metadata": {},
   "source": [
    "Считаем таблицу с принками файла \n",
    "\n",
    "Удалим признаки, связанные с итогами матча\n",
    "\n",
    "***Почему градинтный бустинг?***\n",
    "Он не очень требователен к данным, восстанавливает нелинейные зависимости, и хорошо работает на многих наборах данных, что и обуславливает его популярность. "
   ]
  },
  {
   "cell_type": "code",
   "execution_count": 3,
   "metadata": {},
   "outputs": [
    {
     "data": {
      "text/html": [
       "<div>\n",
       "<style scoped>\n",
       "    .dataframe tbody tr th:only-of-type {\n",
       "        vertical-align: middle;\n",
       "    }\n",
       "\n",
       "    .dataframe tbody tr th {\n",
       "        vertical-align: top;\n",
       "    }\n",
       "\n",
       "    .dataframe thead th {\n",
       "        text-align: right;\n",
       "    }\n",
       "</style>\n",
       "<table border=\"1\" class=\"dataframe\">\n",
       "  <thead>\n",
       "    <tr style=\"text-align: right;\">\n",
       "      <th></th>\n",
       "      <th>start_time</th>\n",
       "      <th>lobby_type</th>\n",
       "      <th>r1_hero</th>\n",
       "      <th>r1_level</th>\n",
       "      <th>r1_xp</th>\n",
       "      <th>r1_gold</th>\n",
       "      <th>r1_lh</th>\n",
       "      <th>r1_kills</th>\n",
       "      <th>r1_deaths</th>\n",
       "      <th>r1_items</th>\n",
       "      <th>...</th>\n",
       "      <th>dire_boots_count</th>\n",
       "      <th>dire_ward_observer_count</th>\n",
       "      <th>dire_ward_sentry_count</th>\n",
       "      <th>dire_first_ward_time</th>\n",
       "      <th>duration</th>\n",
       "      <th>radiant_win</th>\n",
       "      <th>tower_status_radiant</th>\n",
       "      <th>tower_status_dire</th>\n",
       "      <th>barracks_status_radiant</th>\n",
       "      <th>barracks_status_dire</th>\n",
       "    </tr>\n",
       "    <tr>\n",
       "      <th>match_id</th>\n",
       "      <th></th>\n",
       "      <th></th>\n",
       "      <th></th>\n",
       "      <th></th>\n",
       "      <th></th>\n",
       "      <th></th>\n",
       "      <th></th>\n",
       "      <th></th>\n",
       "      <th></th>\n",
       "      <th></th>\n",
       "      <th></th>\n",
       "      <th></th>\n",
       "      <th></th>\n",
       "      <th></th>\n",
       "      <th></th>\n",
       "      <th></th>\n",
       "      <th></th>\n",
       "      <th></th>\n",
       "      <th></th>\n",
       "      <th></th>\n",
       "      <th></th>\n",
       "    </tr>\n",
       "  </thead>\n",
       "  <tbody>\n",
       "    <tr>\n",
       "      <th>0</th>\n",
       "      <td>1430198770</td>\n",
       "      <td>7</td>\n",
       "      <td>11</td>\n",
       "      <td>5</td>\n",
       "      <td>2098</td>\n",
       "      <td>1489</td>\n",
       "      <td>20</td>\n",
       "      <td>0</td>\n",
       "      <td>0</td>\n",
       "      <td>7</td>\n",
       "      <td>...</td>\n",
       "      <td>4</td>\n",
       "      <td>2</td>\n",
       "      <td>2</td>\n",
       "      <td>-52.0</td>\n",
       "      <td>2874</td>\n",
       "      <td>1</td>\n",
       "      <td>1796</td>\n",
       "      <td>0</td>\n",
       "      <td>51</td>\n",
       "      <td>0</td>\n",
       "    </tr>\n",
       "    <tr>\n",
       "      <th>1</th>\n",
       "      <td>1430220345</td>\n",
       "      <td>0</td>\n",
       "      <td>42</td>\n",
       "      <td>4</td>\n",
       "      <td>1188</td>\n",
       "      <td>1033</td>\n",
       "      <td>9</td>\n",
       "      <td>0</td>\n",
       "      <td>1</td>\n",
       "      <td>12</td>\n",
       "      <td>...</td>\n",
       "      <td>4</td>\n",
       "      <td>3</td>\n",
       "      <td>1</td>\n",
       "      <td>-5.0</td>\n",
       "      <td>2463</td>\n",
       "      <td>1</td>\n",
       "      <td>1974</td>\n",
       "      <td>0</td>\n",
       "      <td>63</td>\n",
       "      <td>1</td>\n",
       "    </tr>\n",
       "    <tr>\n",
       "      <th>2</th>\n",
       "      <td>1430227081</td>\n",
       "      <td>7</td>\n",
       "      <td>33</td>\n",
       "      <td>4</td>\n",
       "      <td>1319</td>\n",
       "      <td>1270</td>\n",
       "      <td>22</td>\n",
       "      <td>0</td>\n",
       "      <td>0</td>\n",
       "      <td>12</td>\n",
       "      <td>...</td>\n",
       "      <td>4</td>\n",
       "      <td>3</td>\n",
       "      <td>1</td>\n",
       "      <td>13.0</td>\n",
       "      <td>2130</td>\n",
       "      <td>0</td>\n",
       "      <td>0</td>\n",
       "      <td>1830</td>\n",
       "      <td>0</td>\n",
       "      <td>63</td>\n",
       "    </tr>\n",
       "    <tr>\n",
       "      <th>3</th>\n",
       "      <td>1430263531</td>\n",
       "      <td>1</td>\n",
       "      <td>29</td>\n",
       "      <td>4</td>\n",
       "      <td>1779</td>\n",
       "      <td>1056</td>\n",
       "      <td>14</td>\n",
       "      <td>0</td>\n",
       "      <td>0</td>\n",
       "      <td>5</td>\n",
       "      <td>...</td>\n",
       "      <td>4</td>\n",
       "      <td>2</td>\n",
       "      <td>0</td>\n",
       "      <td>27.0</td>\n",
       "      <td>1459</td>\n",
       "      <td>0</td>\n",
       "      <td>1920</td>\n",
       "      <td>2047</td>\n",
       "      <td>50</td>\n",
       "      <td>63</td>\n",
       "    </tr>\n",
       "    <tr>\n",
       "      <th>4</th>\n",
       "      <td>1430282290</td>\n",
       "      <td>7</td>\n",
       "      <td>13</td>\n",
       "      <td>4</td>\n",
       "      <td>1431</td>\n",
       "      <td>1090</td>\n",
       "      <td>8</td>\n",
       "      <td>1</td>\n",
       "      <td>0</td>\n",
       "      <td>8</td>\n",
       "      <td>...</td>\n",
       "      <td>3</td>\n",
       "      <td>3</td>\n",
       "      <td>0</td>\n",
       "      <td>-16.0</td>\n",
       "      <td>2449</td>\n",
       "      <td>0</td>\n",
       "      <td>4</td>\n",
       "      <td>1974</td>\n",
       "      <td>3</td>\n",
       "      <td>63</td>\n",
       "    </tr>\n",
       "  </tbody>\n",
       "</table>\n",
       "<p>5 rows × 108 columns</p>\n",
       "</div>"
      ],
      "text/plain": [
       "          start_time  lobby_type  r1_hero  r1_level  r1_xp  r1_gold  r1_lh  \\\n",
       "match_id                                                                     \n",
       "0         1430198770           7       11         5   2098     1489     20   \n",
       "1         1430220345           0       42         4   1188     1033      9   \n",
       "2         1430227081           7       33         4   1319     1270     22   \n",
       "3         1430263531           1       29         4   1779     1056     14   \n",
       "4         1430282290           7       13         4   1431     1090      8   \n",
       "\n",
       "          r1_kills  r1_deaths  r1_items  ...  dire_boots_count  \\\n",
       "match_id                                 ...                     \n",
       "0                0          0         7  ...                 4   \n",
       "1                0          1        12  ...                 4   \n",
       "2                0          0        12  ...                 4   \n",
       "3                0          0         5  ...                 4   \n",
       "4                1          0         8  ...                 3   \n",
       "\n",
       "          dire_ward_observer_count  dire_ward_sentry_count  \\\n",
       "match_id                                                     \n",
       "0                                2                       2   \n",
       "1                                3                       1   \n",
       "2                                3                       1   \n",
       "3                                2                       0   \n",
       "4                                3                       0   \n",
       "\n",
       "          dire_first_ward_time  duration  radiant_win  tower_status_radiant  \\\n",
       "match_id                                                                      \n",
       "0                        -52.0      2874            1                  1796   \n",
       "1                         -5.0      2463            1                  1974   \n",
       "2                         13.0      2130            0                     0   \n",
       "3                         27.0      1459            0                  1920   \n",
       "4                        -16.0      2449            0                     4   \n",
       "\n",
       "          tower_status_dire  barracks_status_radiant  barracks_status_dire  \n",
       "match_id                                                                    \n",
       "0                         0                       51                     0  \n",
       "1                         0                       63                     1  \n",
       "2                      1830                        0                    63  \n",
       "3                      2047                       50                    63  \n",
       "4                      1974                        3                    63  \n",
       "\n",
       "[5 rows x 108 columns]"
      ]
     },
     "execution_count": 3,
     "metadata": {},
     "output_type": "execute_result"
    }
   ],
   "source": [
    "train = pd.read_csv('features.csv', index_col=\"match_id\")\n",
    "train.head()"
   ]
  },
  {
   "cell_type": "code",
   "execution_count": 23,
   "metadata": {},
   "outputs": [],
   "source": [
    "train.drop([\n",
    "    \"duration\",\n",
    "    \"tower_status_radiant\",\n",
    "    \"tower_status_dire\",\n",
    "    \"barracks_status_radiant\",\n",
    "    \"barracks_status_dire\",\n",
    "], axis=1, inplace=True)"
   ]
  },
  {
   "cell_type": "markdown",
   "metadata": {},
   "source": [
    "#### Описание признаков в таблице\n",
    "\n",
    "- `match_id`: идентификатор матча в наборе данных\n",
    "- `start_time`: время начала матча (unixtime)\n",
    "- `lobby_type`: тип комнаты, в которой собираются игроки (расшифровка в `dictionaries/lobbies.csv`)\n",
    "- Наборы признаков для каждого игрока (игроки команды Radiant — префикс `rN`, Dire — `dN`):\n",
    "    - `r1_hero`: герой игрока (расшифровка в dictionaries/heroes.csv)\n",
    "    - `r1_level`: максимальный достигнутый уровень героя (за первые 5 игровых минут)\n",
    "    - `r1_xp`: максимальный полученный опыт\n",
    "    - `r1_gold`: достигнутая ценность героя\n",
    "    - `r1_lh`: число убитых юнитов\n",
    "    - `r1_kills`: число убитых игроков\n",
    "    - `r1_deaths`: число смертей героя\n",
    "    - `r1_items`: число купленных предметов\n",
    "- Признаки события \"первая кровь\" (first blood). Если событие \"первая кровь\" не успело произойти за первые 5 минут, то признаки принимают пропущенное значение\n",
    "    - `first_blood_time`: игровое время первой крови\n",
    "    - `first_blood_team`: команда, совершившая первую кровь (0 — Radiant, 1 — Dire)\n",
    "    - `first_blood_player1`: игрок, причастный к событию\n",
    "    - `first_blood_player2`: второй игрок, причастный к событию\n",
    "- Признаки для каждой команды (префиксы `radiant_` и `dire_`)\n",
    "    - `radiant_bottle_time`: время первого приобретения командой предмета \"bottle\"\n",
    "    - `radiant_courier_time`: время приобретения предмета \"courier\" \n",
    "    - `radiant_flying_courier_time`: время приобретения предмета \"flying_courier\" \n",
    "    - `radiant_tpscroll_count`: число предметов \"tpscroll\" за первые 5 минут\n",
    "    - `radiant_boots_count`: число предметов \"boots\"\n",
    "    - `radiant_ward_observer_count`: число предметов \"ward_observer\"\n",
    "    - `radiant_ward_sentry_count`: число предметов \"ward_sentry\"\n",
    "    - `radiant_first_ward_time`: время установки командой первого \"наблюдателя\", т.е. предмета, который позволяет видеть часть игрового поля\n",
    "- Итог матча (данные поля отсутствуют в тестовой выборке, поскольку содержат информацию, выходящую за пределы первых 5 минут матча)\n",
    "    - `duration`: длительность\n",
    "    - `radiant_win`: 1, если победила команда Radiant, 0 — иначе\n",
    "    - Состояние башен и барраков к концу матча (см. описание полей набора данных)\n",
    "        - `tower_status_radiant`\n",
    "        - `tower_status_dire`\n",
    "        - `barracks_status_radiant`\n",
    "        - `barracks_status_dire`"
   ]
  },
  {
   "cell_type": "markdown",
   "metadata": {},
   "source": [
    "Выведем нулевые значения:"
   ]
  },
  {
   "cell_type": "code",
   "execution_count": 24,
   "metadata": {},
   "outputs": [
    {
     "data": {
      "text/plain": [
       "first_blood_player2            43987\n",
       "radiant_flying_courier_time    27479\n",
       "dire_flying_courier_time       26098\n",
       "first_blood_time               19553\n",
       "first_blood_team               19553\n",
       "                               ...  \n",
       "d3_kills                           0\n",
       "d3_deaths                          0\n",
       "d3_items                           0\n",
       "d4_hero                            0\n",
       "start_time                         0\n",
       "Length: 103, dtype: int64"
      ]
     },
     "execution_count": 24,
     "metadata": {},
     "output_type": "execute_result"
    }
   ],
   "source": [
    "train.isnull().sum().sort_values(ascending=False)"
   ]
  },
  {
   "cell_type": "markdown",
   "metadata": {},
   "source": [
    "Чтобы было удобнее, выведем долю ненулевых значений. "
   ]
  },
  {
   "cell_type": "code",
   "execution_count": 25,
   "metadata": {},
   "outputs": [
    {
     "data": {
      "text/plain": [
       "first_blood_player2            0.452402\n",
       "radiant_flying_courier_time    0.282619\n",
       "dire_flying_courier_time       0.268415\n",
       "first_blood_player1            0.201100\n",
       "first_blood_team               0.201100\n",
       "first_blood_time               0.201100\n",
       "dire_bottle_time               0.166029\n",
       "radiant_bottle_time            0.161380\n",
       "radiant_first_ward_time        0.018883\n",
       "dire_first_ward_time           0.018780\n",
       "radiant_courier_time           0.007117\n",
       "dire_courier_time              0.006953\n",
       "dtype: float64"
      ]
     },
     "execution_count": 25,
     "metadata": {},
     "output_type": "execute_result"
    }
   ],
   "source": [
    "na_table = train.isnull().sum()\n",
    "na_table[na_table > 0].sort_values(ascending=False) /  len(train)"
   ]
  },
  {
   "cell_type": "markdown",
   "metadata": {},
   "source": [
    "Проанализируем, что означают отсутвующие значения?"
   ]
  },
  {
   "cell_type": "markdown",
   "metadata": {},
   "source": [
    "* `first_blood_player2` (второй игрок, причастный к событию) - означает, что в первые пять минут, если и происходило событие \"первая кровь\", то один персонаж убивал другого чаще по одиночке. \n",
    "* `radiant_flying_courier_time` (время приобретения предмета \"flying_courier\"). он оначинает быть доступен только в 3 минуту, и в 28 % случаев команды не покупают его сразу за 2 минуты.\n",
    "* `dire_flying_courier_time` (время приобретения предмета \"flying_courier\").аналогичное объяснение для команды соперников\n",
    "* `first_blood_player1`, `first_blood_team`, `first_blood_time` - пропущенные значения в этих колонках означает, что первое убийство игрока игроком не произошло в первые 5 минут. B\n",
    "* `dire_bottle_time` `radiant_bottle_time `(время первого приобретения командой предмета \"bottle\") - означает, что в 16 %  случаев бутылку не покупали в начале игры\n",
    "* `radiant_first_ward_time' 'dire_first_ward_time` ( время установки командой первого \"наблюдателя\") - очень редкое явление\n",
    "* `radiant_courier_time` (время приобретения предмета \"courier\") - также редкое явление в обоих командах \n"
   ]
  },
  {
   "cell_type": "markdown",
   "metadata": {},
   "source": [
    "сравним различные подходы к обработке пропущенных значений?"
   ]
  },
  {
   "cell_type": "code",
   "execution_count": 26,
   "metadata": {},
   "outputs": [],
   "source": [
    "data0 = train.fillna(0) # пропуски заполнены нулями\n",
    "data1 = train.fillna(train.mean()) # пропуски заполнены средним значением\n",
    "data2 = train.fillna(train.max()) # пропуски заполнены максимальным значением"
   ]
  },
  {
   "cell_type": "markdown",
   "metadata": {},
   "source": [
    "***Целевая переменная содержится в \"radiant_win\"***"
   ]
  },
  {
   "cell_type": "code",
   "execution_count": 27,
   "metadata": {},
   "outputs": [],
   "source": [
    "X_0 = data0.drop('radiant_win', axis=1)\n",
    "y_0 = data0['radiant_win']"
   ]
  },
  {
   "cell_type": "code",
   "execution_count": 28,
   "metadata": {},
   "outputs": [],
   "source": [
    "X_1 = data1.drop('radiant_win', axis=1)\n",
    "y_1 = data1['radiant_win']"
   ]
  },
  {
   "cell_type": "code",
   "execution_count": 29,
   "metadata": {},
   "outputs": [],
   "source": [
    "X_2 = data2.drop('radiant_win', axis=1)\n",
    "y_2 = data2['radiant_win']"
   ]
  },
  {
   "cell_type": "markdown",
   "metadata": {},
   "source": [
    "### Забудем, что в выборке есть категориальные признаки, и попробуем обучить градиентный бустинг над деревьями на имеющейся матрице \"объекты-признаки\" ###"
   ]
  },
  {
   "cell_type": "code",
   "execution_count": 30,
   "metadata": {},
   "outputs": [],
   "source": [
    "cv = KFold(n_splits=5, shuffle=True, random_state=42)"
   ]
  },
  {
   "cell_type": "code",
   "execution_count": 31,
   "metadata": {},
   "outputs": [],
   "source": [
    "def score_gb(X: pd.DataFrame, y: pd.Series) -> pd.Series:\n",
    "    scores = {}\n",
    "\n",
    "    for n_estimators in [10, 20, 30, 50]:\n",
    "        print(f\"n_estimators={n_estimators}\")\n",
    "        model = GradientBoostingClassifier(n_estimators=n_estimators, random_state=42)\n",
    "\n",
    "        start_time = datetime.datetime.now()\n",
    "        score = cross_val_score(model, X, y, cv=cv, scoring=\"roc_auc\", n_jobs=-1).mean()\n",
    "        print(f\"Score: {score:.3f}\")\n",
    "        print(f\"Time elapsed: {datetime.datetime.now() - start_time}\")\n",
    "\n",
    "        scores[n_estimators] = score\n",
    "        print()\n",
    "        \n",
    "    return pd.Series(scores)"
   ]
  },
  {
   "cell_type": "code",
   "execution_count": 32,
   "metadata": {},
   "outputs": [
    {
     "name": "stdout",
     "output_type": "stream",
     "text": [
      "n_estimators=10\n",
      "Score: 0.665\n",
      "Time elapsed: 0:00:29.000312\n",
      "\n",
      "n_estimators=20\n",
      "Score: 0.682\n",
      "Time elapsed: 0:00:52.662484\n",
      "\n",
      "n_estimators=30\n",
      "Score: 0.690\n",
      "Time elapsed: 0:01:20.297742\n",
      "\n",
      "n_estimators=50\n",
      "Score: 0.697\n",
      "Time elapsed: 0:02:08.524599\n",
      "\n"
     ]
    },
    {
     "data": {
      "text/plain": [
       "<matplotlib.axes._subplots.AxesSubplot at 0x10d871a00>"
      ]
     },
     "execution_count": 32,
     "metadata": {},
     "output_type": "execute_result"
    },
    {
     "data": {
      "image/png": "[encoded data removed]",
      "text/plain": [
       "<Figure size 432x288 with 1 Axes>"
      ]
     },
     "metadata": {
      "needs_background": "light"
     },
     "output_type": "display_data"
    }
   ],
   "source": [
    "scores = score_gb(X_0, y_0)\n",
    "scores.plot()"
   ]
  },
  {
   "cell_type": "markdown",
   "metadata": {},
   "source": [
    "**Можно сказать, что взять n_estimators=30 самое оптимальное, потому что реализация алгоритма занимает только полторы минуты, а качество не сильно отличается от n_estimators=50** "
   ]
  },
  {
   "cell_type": "markdown",
   "metadata": {},
   "source": [
    "**Попробуем поменять данные**"
   ]
  },
  {
   "cell_type": "code",
   "execution_count": 33,
   "metadata": {},
   "outputs": [
    {
     "name": "stdout",
     "output_type": "stream",
     "text": [
      "n_estimators=10\n",
      "Score: 0.663\n",
      "Time elapsed: 0:00:27.465750\n",
      "\n",
      "n_estimators=20\n",
      "Score: 0.682\n",
      "Time elapsed: 0:00:56.643395\n",
      "\n",
      "n_estimators=30\n",
      "Score: 0.689\n",
      "Time elapsed: 0:01:19.159689\n",
      "\n",
      "n_estimators=50\n",
      "Score: 0.697\n",
      "Time elapsed: 0:02:09.814704\n",
      "\n"
     ]
    },
    {
     "data": {
      "text/plain": [
       "<matplotlib.axes._subplots.AxesSubplot at 0x1260845b0>"
      ]
     },
     "execution_count": 33,
     "metadata": {},
     "output_type": "execute_result"
    },
    {
     "data": {
      "image/png": "[encoded data removed]",
      "text/plain": [
       "<Figure size 432x288 with 1 Axes>"
      ]
     },
     "metadata": {
      "needs_background": "light"
     },
     "output_type": "display_data"
    }
   ],
   "source": [
    "scores = score_gb(X_1, y_1)\n",
    "scores.plot()"
   ]
  },
  {
   "cell_type": "code",
   "execution_count": 34,
   "metadata": {},
   "outputs": [
    {
     "name": "stdout",
     "output_type": "stream",
     "text": [
      "n_estimators=10\n",
      "Score: 0.666\n",
      "Time elapsed: 0:00:32.612144\n",
      "\n",
      "n_estimators=20\n",
      "Score: 0.683\n",
      "Time elapsed: 0:01:01.800073\n",
      "\n",
      "n_estimators=30\n",
      "Score: 0.690\n",
      "Time elapsed: 0:01:29.667680\n",
      "\n",
      "n_estimators=50\n",
      "Score: 0.698\n",
      "Time elapsed: 0:02:30.714941\n",
      "\n"
     ]
    },
    {
     "data": {
      "text/plain": [
       "<matplotlib.axes._subplots.AxesSubplot at 0x124d19f10>"
      ]
     },
     "execution_count": 34,
     "metadata": {},
     "output_type": "execute_result"
    },
    {
     "data": {
      "image/png": "[encoded data removed]",
      "text/plain": [
       "<Figure size 432x288 with 1 Axes>"
      ]
     },
     "metadata": {
      "needs_background": "light"
     },
     "output_type": "display_data"
    }
   ],
   "source": [
    "scores = score_gb(X_2, y_2)\n",
    "scores.plot()"
   ]
  },
  {
   "cell_type": "markdown",
   "metadata": {},
   "source": [
    "***Таким образом можно сделать вывод в данной задаче практически не важно чем мы заполняем пропущенные значения. НО хочентся обратить внимание, что все-таки лучше заполнять их в случае с деревьями максимальными значениями или нулевыми — в этом случае при построении разбиения вершины можно будет отправить объекты с пропусками в отдельную ветвь дерева.***"
   ]
  },
  {
   "cell_type": "markdown",
   "metadata": {},
   "source": [
    "## Подход 2:  логистическая регрессия ##"
   ]
  },
  {
   "cell_type": "markdown",
   "metadata": {},
   "source": [
    "**Почему она?**\n",
    "Потому что линейные регрессии работают гораздо быстрее деревьев. Сравним"
   ]
  },
  {
   "cell_type": "code",
   "execution_count": 37,
   "metadata": {},
   "outputs": [],
   "source": [
    "scaler = StandardScaler()"
   ]
  },
  {
   "cell_type": "code",
   "execution_count": 37,
   "metadata": {},
   "outputs": [],
   "source": [
    "X_log0 = pd.DataFrame(scaler.fit_transform(X_0), index=X_0.index, columns=X_0.columns)"
   ]
  },
  {
   "cell_type": "code",
   "execution_count": 38,
   "metadata": {},
   "outputs": [],
   "source": [
    "X_log1 = pd.DataFrame(scaler.fit_transform(X_1), index=X_1.index, columns=X_1.columns)"
   ]
  },
  {
   "cell_type": "code",
   "execution_count": 39,
   "metadata": {},
   "outputs": [],
   "source": [
    "X_log2 = pd.DataFrame(scaler.fit_transform(X_2), index=X_2.index, columns=X_2.columns)"
   ]
  },
  {
   "cell_type": "code",
   "execution_count": 40,
   "metadata": {},
   "outputs": [],
   "source": [
    "def score_lr(X: pd.DataFrame, y: pd.Series) -> pd.Series:\n",
    "    scores = {}\n",
    "\n",
    "    for i in range(-5, 6):\n",
    "        C = 10.0 ** i\n",
    "\n",
    "        print(f\"C={C}\")\n",
    "        model = LogisticRegression(C=C, random_state=42)\n",
    "\n",
    "        start_time = datetime.datetime.now()\n",
    "        score = cross_val_score(model, X, y, cv=cv, scoring=\"roc_auc\", n_jobs=-1).mean()\n",
    "        print(f\"Score: {score:.3f}\")\n",
    "        print(f\"Time elapsed: {datetime.datetime.now() - start_time}\")\n",
    "\n",
    "        scores[i] = score\n",
    "        print()\n",
    "\n",
    "    return pd.Series(scores)"
   ]
  },
  {
   "cell_type": "code",
   "execution_count": 44,
   "metadata": {},
   "outputs": [
    {
     "name": "stdout",
     "output_type": "stream",
     "text": [
      "C=1e-05\n",
      "Score: 0.695\n",
      "Time elapsed: 0:00:01.449831\n",
      "\n",
      "C=0.0001\n",
      "Score: 0.711\n",
      "Time elapsed: 0:00:01.832242\n",
      "\n",
      "C=0.001\n",
      "Score: 0.716\n",
      "Time elapsed: 0:00:02.894974\n",
      "\n",
      "C=0.01\n",
      "Score: 0.717\n",
      "Time elapsed: 0:00:03.325659\n",
      "\n",
      "C=0.1\n",
      "Score: 0.717\n",
      "Time elapsed: 0:00:03.619801\n",
      "\n",
      "C=1.0\n",
      "Score: 0.717\n",
      "Time elapsed: 0:00:03.203951\n",
      "\n",
      "C=10.0\n",
      "Score: 0.717\n",
      "Time elapsed: 0:00:03.235447\n",
      "\n",
      "C=100.0\n",
      "Score: 0.717\n",
      "Time elapsed: 0:00:03.243002\n",
      "\n",
      "C=1000.0\n",
      "Score: 0.717\n",
      "Time elapsed: 0:00:03.273489\n",
      "\n",
      "C=10000.0\n",
      "Score: 0.717\n",
      "Time elapsed: 0:00:03.771603\n",
      "\n",
      "C=100000.0\n",
      "Score: 0.717\n",
      "Time elapsed: 0:00:03.732042\n",
      "\n"
     ]
    },
    {
     "data": {
      "text/plain": [
       "<matplotlib.axes._subplots.AxesSubplot at 0x1262511c0>"
      ]
     },
     "execution_count": 44,
     "metadata": {},
     "output_type": "execute_result"
    },
    {
     "data": {
      "image/png": "[encoded data removed]",
      "text/plain": [
       "<Figure size 432x288 with 1 Axes>"
      ]
     },
     "metadata": {
      "needs_background": "light"
     },
     "output_type": "display_data"
    }
   ],
   "source": [
    "scores = score_lr(X_log0, y_0)\n",
    "scores.plot()"
   ]
  },
  {
   "cell_type": "code",
   "execution_count": 45,
   "metadata": {},
   "outputs": [
    {
     "name": "stdout",
     "output_type": "stream",
     "text": [
      "C=1e-05\n",
      "Score: 0.695\n",
      "Time elapsed: 0:00:01.637527\n",
      "\n",
      "C=0.0001\n",
      "Score: 0.712\n",
      "Time elapsed: 0:00:01.709809\n",
      "\n",
      "C=0.001\n",
      "Score: 0.717\n",
      "Time elapsed: 0:00:02.798944\n",
      "\n",
      "C=0.01\n",
      "Score: 0.717\n",
      "Time elapsed: 0:00:03.305330\n",
      "\n",
      "C=0.1\n",
      "Score: 0.717\n",
      "Time elapsed: 0:00:03.274849\n",
      "\n",
      "C=1.0\n",
      "Score: 0.717\n",
      "Time elapsed: 0:00:03.108594\n",
      "\n",
      "C=10.0\n",
      "Score: 0.717\n",
      "Time elapsed: 0:00:03.187782\n",
      "\n",
      "C=100.0\n",
      "Score: 0.717\n",
      "Time elapsed: 0:00:03.280694\n",
      "\n",
      "C=1000.0\n",
      "Score: 0.717\n",
      "Time elapsed: 0:00:03.411590\n",
      "\n",
      "C=10000.0\n",
      "Score: 0.717\n",
      "Time elapsed: 0:00:03.111166\n",
      "\n",
      "C=100000.0\n",
      "Score: 0.717\n",
      "Time elapsed: 0:00:03.426092\n",
      "\n"
     ]
    },
    {
     "data": {
      "text/plain": [
       "<matplotlib.axes._subplots.AxesSubplot at 0x1262e3370>"
      ]
     },
     "execution_count": 45,
     "metadata": {},
     "output_type": "execute_result"
    },
    {
     "data": {
      "image/png": "[encoded data removed]",
      "text/plain": [
       "<Figure size 432x288 with 1 Axes>"
      ]
     },
     "metadata": {
      "needs_background": "light"
     },
     "output_type": "display_data"
    }
   ],
   "source": [
    "scores = score_lr(X_log1, y_1)\n",
    "scores.plot()"
   ]
  },
  {
   "cell_type": "code",
   "execution_count": 46,
   "metadata": {},
   "outputs": [
    {
     "name": "stdout",
     "output_type": "stream",
     "text": [
      "C=1e-05\n",
      "Score: 0.696\n",
      "Time elapsed: 0:00:01.595068\n",
      "\n",
      "C=0.0001\n",
      "Score: 0.712\n",
      "Time elapsed: 0:00:01.524608\n",
      "\n",
      "C=0.001\n",
      "Score: 0.717\n",
      "Time elapsed: 0:00:02.329074\n",
      "\n",
      "C=0.01\n",
      "Score: 0.717\n",
      "Time elapsed: 0:00:02.946961\n",
      "\n",
      "C=0.1\n",
      "Score: 0.717\n",
      "Time elapsed: 0:00:03.208846\n",
      "\n",
      "C=1.0\n",
      "Score: 0.717\n",
      "Time elapsed: 0:00:03.200605\n",
      "\n",
      "C=10.0\n",
      "Score: 0.717\n",
      "Time elapsed: 0:00:03.205773\n",
      "\n",
      "C=100.0\n",
      "Score: 0.717\n",
      "Time elapsed: 0:00:03.464018\n",
      "\n",
      "C=1000.0\n",
      "Score: 0.717\n",
      "Time elapsed: 0:00:03.215233\n",
      "\n",
      "C=10000.0\n",
      "Score: 0.717\n",
      "Time elapsed: 0:00:03.209121\n",
      "\n",
      "C=100000.0\n",
      "Score: 0.717\n",
      "Time elapsed: 0:00:03.186655\n",
      "\n"
     ]
    },
    {
     "data": {
      "text/plain": [
       "<matplotlib.axes._subplots.AxesSubplot at 0x12694b490>"
      ]
     },
     "execution_count": 46,
     "metadata": {},
     "output_type": "execute_result"
    },
    {
     "data": {
      "image/png": "[encoded data removed]",
      "text/plain": [
       "<Figure size 432x288 with 1 Axes>"
      ]
     },
     "metadata": {
      "needs_background": "light"
     },
     "output_type": "display_data"
    }
   ],
   "source": [
    "scores = score_lr(X_log2, y_2)\n",
    "scores.plot()"
   ]
  },
  {
   "cell_type": "markdown",
   "metadata": {},
   "source": [
    "**Теперь уберем  категориальные переменные**"
   ]
  },
  {
   "cell_type": "code",
   "execution_count": 51,
   "metadata": {},
   "outputs": [],
   "source": [
    "hero_columns = [f\"r{i}_hero\" for i in range (1, 6)] + [f\"d{i}_hero\" for i in range (1, 6)]\n",
    "cat_columns = [\"lobby_type\"] + hero_columns\n",
    "X_log0.drop(cat_columns, axis=1, inplace=True)"
   ]
  },
  {
   "cell_type": "code",
   "execution_count": 52,
   "metadata": {},
   "outputs": [
    {
     "name": "stdout",
     "output_type": "stream",
     "text": [
      "C=1e-05\n",
      "Score: 0.695\n",
      "Time elapsed: 0:00:01.371515\n",
      "\n",
      "C=0.0001\n",
      "Score: 0.711\n",
      "Time elapsed: 0:00:01.466050\n",
      "\n",
      "C=0.001\n",
      "Score: 0.716\n",
      "Time elapsed: 0:00:02.233286\n",
      "\n",
      "C=0.01\n",
      "Score: 0.717\n",
      "Time elapsed: 0:00:02.850733\n",
      "\n",
      "C=0.1\n",
      "Score: 0.717\n",
      "Time elapsed: 0:00:04.044462\n",
      "\n",
      "C=1.0\n",
      "Score: 0.717\n",
      "Time elapsed: 0:00:03.518026\n",
      "\n",
      "C=10.0\n",
      "Score: 0.717\n",
      "Time elapsed: 0:00:03.169954\n",
      "\n",
      "C=100.0\n",
      "Score: 0.717\n",
      "Time elapsed: 0:00:03.439654\n",
      "\n",
      "C=1000.0\n",
      "Score: 0.717\n",
      "Time elapsed: 0:00:03.162892\n",
      "\n",
      "C=10000.0\n",
      "Score: 0.717\n",
      "Time elapsed: 0:00:03.618730\n",
      "\n",
      "C=100000.0\n",
      "Score: 0.717\n",
      "Time elapsed: 0:00:03.111809\n",
      "\n"
     ]
    },
    {
     "data": {
      "text/plain": [
       "<matplotlib.axes._subplots.AxesSubplot at 0x126084d30>"
      ]
     },
     "execution_count": 52,
     "metadata": {},
     "output_type": "execute_result"
    },
    {
     "data": {
      "image/png": "[encoded data removed]",
      "text/plain": [
       "<Figure size 432x288 with 1 Axes>"
      ]
     },
     "metadata": {
      "needs_background": "light"
     },
     "output_type": "display_data"
    }
   ],
   "source": [
    "scores = score_lr(X_log0, y_0)\n",
    "scores.plot()"
   ]
  },
  {
   "cell_type": "markdown",
   "metadata": {},
   "source": [
    "***Удаление категориальных признаков не повлияло на качество предсказания. Получается, что в предыдущей модели эти признаки никак не влияли на результат предсказания, модель смогла распознать этот шум.***"
   ]
  },
  {
   "cell_type": "markdown",
   "metadata": {},
   "source": [
    "На самом деле, следуя банальной логике, все-таки выбор героя важен в матчах. От этого зависит стратегия игроков и многое другое. "
   ]
  },
  {
   "cell_type": "markdown",
   "metadata": {},
   "source": [
    "Выясним из данных, сколько различных идентификаторов героев существует в данной игре (вам может пригодиться фукнция unique или value_counts)."
   ]
  },
  {
   "cell_type": "code",
   "execution_count": 54,
   "metadata": {},
   "outputs": [
    {
     "name": "stdout",
     "output_type": "stream",
     "text": [
      "Число уникальных героев в train: 108. Максимальный ID героя: 112.\n"
     ]
    }
   ],
   "source": [
    "unique_heroes = np.unique(train[hero_columns].values.ravel())\n",
    "N = max(unique_heroes)\n",
    "print(f\"Число уникальных героев в train: {len(unique_heroes)}. Максимальный ID героя: {N}.\")"
   ]
  },
  {
   "cell_type": "markdown",
   "metadata": {},
   "source": [
    "***Воспользуемся подходом \"мешок слов\" для кодирования информации о героях***"
   ]
  },
  {
   "cell_type": "markdown",
   "metadata": {},
   "source": [
    "Пусть всего в игре имеет N различных героев. Сформируем N признаков, при этом i-й будет равен нулю, если i-й герой не участвовал в матче; единице, если i-й герой играл за команду Radiant; минус единице, если i-й герой играл за команду Dire. Добавьте полученные признаки к числовым, которые вы использовали во втором пункте данного этапа."
   ]
  },
  {
   "cell_type": "code",
   "execution_count": 55,
   "metadata": {},
   "outputs": [
    {
     "data": {
      "text/html": [
       "<div>\n",
       "<style scoped>\n",
       "    .dataframe tbody tr th:only-of-type {\n",
       "        vertical-align: middle;\n",
       "    }\n",
       "\n",
       "    .dataframe tbody tr th {\n",
       "        vertical-align: top;\n",
       "    }\n",
       "\n",
       "    .dataframe thead th {\n",
       "        text-align: right;\n",
       "    }\n",
       "</style>\n",
       "<table border=\"1\" class=\"dataframe\">\n",
       "  <thead>\n",
       "    <tr style=\"text-align: right;\">\n",
       "      <th></th>\n",
       "      <th>hero_0</th>\n",
       "      <th>hero_1</th>\n",
       "      <th>hero_2</th>\n",
       "      <th>hero_3</th>\n",
       "      <th>hero_4</th>\n",
       "      <th>hero_5</th>\n",
       "      <th>hero_6</th>\n",
       "      <th>hero_7</th>\n",
       "      <th>hero_8</th>\n",
       "      <th>hero_9</th>\n",
       "      <th>...</th>\n",
       "      <th>hero_102</th>\n",
       "      <th>hero_103</th>\n",
       "      <th>hero_104</th>\n",
       "      <th>hero_105</th>\n",
       "      <th>hero_106</th>\n",
       "      <th>hero_107</th>\n",
       "      <th>hero_108</th>\n",
       "      <th>hero_109</th>\n",
       "      <th>hero_110</th>\n",
       "      <th>hero_111</th>\n",
       "    </tr>\n",
       "    <tr>\n",
       "      <th>match_id</th>\n",
       "      <th></th>\n",
       "      <th></th>\n",
       "      <th></th>\n",
       "      <th></th>\n",
       "      <th></th>\n",
       "      <th></th>\n",
       "      <th></th>\n",
       "      <th></th>\n",
       "      <th></th>\n",
       "      <th></th>\n",
       "      <th></th>\n",
       "      <th></th>\n",
       "      <th></th>\n",
       "      <th></th>\n",
       "      <th></th>\n",
       "      <th></th>\n",
       "      <th></th>\n",
       "      <th></th>\n",
       "      <th></th>\n",
       "      <th></th>\n",
       "      <th></th>\n",
       "    </tr>\n",
       "  </thead>\n",
       "  <tbody>\n",
       "    <tr>\n",
       "      <th>0</th>\n",
       "      <td>0.0</td>\n",
       "      <td>0.0</td>\n",
       "      <td>0.0</td>\n",
       "      <td>-1.0</td>\n",
       "      <td>0.0</td>\n",
       "      <td>0.0</td>\n",
       "      <td>0.0</td>\n",
       "      <td>0.0</td>\n",
       "      <td>0.0</td>\n",
       "      <td>0.0</td>\n",
       "      <td>...</td>\n",
       "      <td>0.0</td>\n",
       "      <td>0.0</td>\n",
       "      <td>1.0</td>\n",
       "      <td>0.0</td>\n",
       "      <td>0.0</td>\n",
       "      <td>0.0</td>\n",
       "      <td>0.0</td>\n",
       "      <td>0.0</td>\n",
       "      <td>0.0</td>\n",
       "      <td>0.0</td>\n",
       "    </tr>\n",
       "    <tr>\n",
       "      <th>1</th>\n",
       "      <td>0.0</td>\n",
       "      <td>0.0</td>\n",
       "      <td>0.0</td>\n",
       "      <td>0.0</td>\n",
       "      <td>0.0</td>\n",
       "      <td>0.0</td>\n",
       "      <td>-1.0</td>\n",
       "      <td>0.0</td>\n",
       "      <td>0.0</td>\n",
       "      <td>0.0</td>\n",
       "      <td>...</td>\n",
       "      <td>0.0</td>\n",
       "      <td>0.0</td>\n",
       "      <td>0.0</td>\n",
       "      <td>0.0</td>\n",
       "      <td>0.0</td>\n",
       "      <td>0.0</td>\n",
       "      <td>0.0</td>\n",
       "      <td>0.0</td>\n",
       "      <td>0.0</td>\n",
       "      <td>0.0</td>\n",
       "    </tr>\n",
       "    <tr>\n",
       "      <th>2</th>\n",
       "      <td>0.0</td>\n",
       "      <td>0.0</td>\n",
       "      <td>0.0</td>\n",
       "      <td>1.0</td>\n",
       "      <td>0.0</td>\n",
       "      <td>0.0</td>\n",
       "      <td>0.0</td>\n",
       "      <td>0.0</td>\n",
       "      <td>0.0</td>\n",
       "      <td>0.0</td>\n",
       "      <td>...</td>\n",
       "      <td>0.0</td>\n",
       "      <td>0.0</td>\n",
       "      <td>0.0</td>\n",
       "      <td>0.0</td>\n",
       "      <td>0.0</td>\n",
       "      <td>0.0</td>\n",
       "      <td>0.0</td>\n",
       "      <td>0.0</td>\n",
       "      <td>0.0</td>\n",
       "      <td>0.0</td>\n",
       "    </tr>\n",
       "    <tr>\n",
       "      <th>3</th>\n",
       "      <td>0.0</td>\n",
       "      <td>0.0</td>\n",
       "      <td>0.0</td>\n",
       "      <td>0.0</td>\n",
       "      <td>0.0</td>\n",
       "      <td>0.0</td>\n",
       "      <td>0.0</td>\n",
       "      <td>0.0</td>\n",
       "      <td>0.0</td>\n",
       "      <td>0.0</td>\n",
       "      <td>...</td>\n",
       "      <td>0.0</td>\n",
       "      <td>0.0</td>\n",
       "      <td>0.0</td>\n",
       "      <td>0.0</td>\n",
       "      <td>0.0</td>\n",
       "      <td>0.0</td>\n",
       "      <td>0.0</td>\n",
       "      <td>0.0</td>\n",
       "      <td>0.0</td>\n",
       "      <td>0.0</td>\n",
       "    </tr>\n",
       "    <tr>\n",
       "      <th>4</th>\n",
       "      <td>0.0</td>\n",
       "      <td>0.0</td>\n",
       "      <td>0.0</td>\n",
       "      <td>0.0</td>\n",
       "      <td>0.0</td>\n",
       "      <td>0.0</td>\n",
       "      <td>0.0</td>\n",
       "      <td>-1.0</td>\n",
       "      <td>0.0</td>\n",
       "      <td>0.0</td>\n",
       "      <td>...</td>\n",
       "      <td>0.0</td>\n",
       "      <td>0.0</td>\n",
       "      <td>0.0</td>\n",
       "      <td>0.0</td>\n",
       "      <td>0.0</td>\n",
       "      <td>0.0</td>\n",
       "      <td>0.0</td>\n",
       "      <td>0.0</td>\n",
       "      <td>0.0</td>\n",
       "      <td>0.0</td>\n",
       "    </tr>\n",
       "  </tbody>\n",
       "</table>\n",
       "<p>5 rows × 112 columns</p>\n",
       "</div>"
      ],
      "text/plain": [
       "          hero_0  hero_1  hero_2  hero_3  hero_4  hero_5  hero_6  hero_7  \\\n",
       "match_id                                                                   \n",
       "0            0.0     0.0     0.0    -1.0     0.0     0.0     0.0     0.0   \n",
       "1            0.0     0.0     0.0     0.0     0.0     0.0    -1.0     0.0   \n",
       "2            0.0     0.0     0.0     1.0     0.0     0.0     0.0     0.0   \n",
       "3            0.0     0.0     0.0     0.0     0.0     0.0     0.0     0.0   \n",
       "4            0.0     0.0     0.0     0.0     0.0     0.0     0.0    -1.0   \n",
       "\n",
       "          hero_8  hero_9  ...  hero_102  hero_103  hero_104  hero_105  \\\n",
       "match_id                  ...                                           \n",
       "0            0.0     0.0  ...       0.0       0.0       1.0       0.0   \n",
       "1            0.0     0.0  ...       0.0       0.0       0.0       0.0   \n",
       "2            0.0     0.0  ...       0.0       0.0       0.0       0.0   \n",
       "3            0.0     0.0  ...       0.0       0.0       0.0       0.0   \n",
       "4            0.0     0.0  ...       0.0       0.0       0.0       0.0   \n",
       "\n",
       "          hero_106  hero_107  hero_108  hero_109  hero_110  hero_111  \n",
       "match_id                                                              \n",
       "0              0.0       0.0       0.0       0.0       0.0       0.0  \n",
       "1              0.0       0.0       0.0       0.0       0.0       0.0  \n",
       "2              0.0       0.0       0.0       0.0       0.0       0.0  \n",
       "3              0.0       0.0       0.0       0.0       0.0       0.0  \n",
       "4              0.0       0.0       0.0       0.0       0.0       0.0  \n",
       "\n",
       "[5 rows x 112 columns]"
      ]
     },
     "execution_count": 55,
     "metadata": {},
     "output_type": "execute_result"
    }
   ],
   "source": [
    "def get_pick(data: pd.DataFrame) -> pd.DataFrame:\n",
    "    X_pick = np.zeros((data.shape[0], N))\n",
    "\n",
    "    for i, match_id in enumerate(data.index):\n",
    "        for p in range(1, 6):\n",
    "            X_pick[i, data.loc[match_id, f\"r{p}_hero\"] - 1] = 1\n",
    "            X_pick[i, data.loc[match_id, f\"d{p}_hero\"] - 1] = -1\n",
    "\n",
    "    return pd.DataFrame(X_pick, index=data.index, columns=[f\"hero_{i}\" for i in range(N)])\n",
    "\n",
    "X_pick = get_pick(data0)\n",
    "X_pick.head()"
   ]
  },
  {
   "cell_type": "code",
   "execution_count": 57,
   "metadata": {},
   "outputs": [],
   "source": [
    "X_log0 = pd.concat([X_log0, X_pick], axis=1)"
   ]
  },
  {
   "cell_type": "code",
   "execution_count": 60,
   "metadata": {},
   "outputs": [
    {
     "name": "stdout",
     "output_type": "stream",
     "text": [
      "C=1e-05\n",
      "Score: 0.699\n",
      "Time elapsed: 0:00:08.392610\n",
      "\n",
      "C=0.0001\n",
      "Score: 0.725\n",
      "Time elapsed: 0:00:04.287844\n",
      "\n",
      "C=0.001\n",
      "Score: 0.746\n",
      "Time elapsed: 0:00:06.339729\n",
      "\n",
      "C=0.01\n",
      "Score: 0.752\n",
      "Time elapsed: 0:00:11.335525\n",
      "\n",
      "C=0.1\n",
      "Score: 0.752\n",
      "Time elapsed: 0:00:14.050634\n",
      "\n",
      "C=1.0\n",
      "Score: 0.752\n",
      "Time elapsed: 0:00:15.167145\n",
      "\n",
      "C=10.0\n",
      "Score: 0.752\n",
      "Time elapsed: 0:00:12.247542\n",
      "\n",
      "C=100.0\n",
      "Score: 0.752\n",
      "Time elapsed: 0:00:12.235868\n",
      "\n",
      "C=1000.0\n",
      "Score: 0.752\n",
      "Time elapsed: 0:00:13.006046\n",
      "\n",
      "C=10000.0\n",
      "Score: 0.752\n",
      "Time elapsed: 0:00:11.912242\n",
      "\n",
      "C=100000.0\n",
      "Score: 0.752\n",
      "Time elapsed: 0:00:12.342706\n",
      "\n"
     ]
    },
    {
     "data": {
      "text/plain": [
       "<matplotlib.axes._subplots.AxesSubplot at 0x1257e7e80>"
      ]
     },
     "execution_count": 60,
     "metadata": {},
     "output_type": "execute_result"
    },
    {
     "data": {
      "image/png": "[encoded data removed]",
      "text/plain": [
       "<Figure size 432x288 with 1 Axes>"
      ]
     },
     "metadata": {
      "needs_background": "light"
     },
     "output_type": "display_data"
    }
   ],
   "source": [
    "scores = score_lr(X_log0, y_0)\n",
    "scores.plot()"
   ]
  },
  {
   "cell_type": "markdown",
   "metadata": {},
   "source": [
    "***Наилучшее значение показателя AUC-ROC достигается при C = 0.10 и равно 0.75.\n",
    "После добавления \"мешка слов\" по героям качество заметно улучшилось. Это объясняется тем, что вместо отсутствия данных о героях или случайного шума из id мы имеем осмысленную разреженную матрицу для построения предсказания.***"
   ]
  },
  {
   "cell_type": "markdown",
   "metadata": {},
   "source": [
    "#### Построим предсказания вероятности победы команды Radiant для тестовой выборки с помощью лучшей из изученных моделей (лучшей с точки зрения AUC-ROC на кросс-валидации) ####"
   ]
  },
  {
   "cell_type": "markdown",
   "metadata": {},
   "source": [
    "Убедимся, что предсказаные значения вероятности - адекватные(находятся в отрезке [0;1])"
   ]
  },
  {
   "cell_type": "code",
   "execution_count": 61,
   "metadata": {},
   "outputs": [
    {
     "name": "stderr",
     "output_type": "stream",
     "text": [
      "/Users/sandrayakimova/opt/anaconda3/lib/python3.8/site-packages/sklearn/linear_model/_logistic.py:762: ConvergenceWarning: lbfgs failed to converge (status=1):\n",
      "STOP: TOTAL NO. of ITERATIONS REACHED LIMIT.\n",
      "\n",
      "Increase the number of iterations (max_iter) or scale the data as shown in:\n",
      "    https://scikit-learn.org/stable/modules/preprocessing.html\n",
      "Please also refer to the documentation for alternative solver options:\n",
      "    https://scikit-learn.org/stable/modules/linear_model.html#logistic-regression\n",
      "  n_iter_i = _check_optimize_result(\n"
     ]
    },
    {
     "data": {
      "text/plain": [
       "LogisticRegression(C=0.1, random_state=42)"
      ]
     },
     "execution_count": 61,
     "metadata": {},
     "output_type": "execute_result"
    }
   ],
   "source": [
    "model = LogisticRegression(C=0.1, random_state=42)\n",
    "model.fit(X_log0, y_0)"
   ]
  },
  {
   "cell_type": "code",
   "execution_count": 65,
   "metadata": {},
   "outputs": [],
   "source": [
    "test = pd.read_csv(\"features_test.csv\", index_col=\"match_id\")\n",
    "test.fillna(0, inplace=True)"
   ]
  },
  {
   "cell_type": "code",
   "execution_count": 66,
   "metadata": {},
   "outputs": [
    {
     "data": {
      "text/html": [
       "<div>\n",
       "<style scoped>\n",
       "    .dataframe tbody tr th:only-of-type {\n",
       "        vertical-align: middle;\n",
       "    }\n",
       "\n",
       "    .dataframe tbody tr th {\n",
       "        vertical-align: top;\n",
       "    }\n",
       "\n",
       "    .dataframe thead th {\n",
       "        text-align: right;\n",
       "    }\n",
       "</style>\n",
       "<table border=\"1\" class=\"dataframe\">\n",
       "  <thead>\n",
       "    <tr style=\"text-align: right;\">\n",
       "      <th></th>\n",
       "      <th>start_time</th>\n",
       "      <th>lobby_type</th>\n",
       "      <th>r1_hero</th>\n",
       "      <th>r1_level</th>\n",
       "      <th>r1_xp</th>\n",
       "      <th>r1_gold</th>\n",
       "      <th>r1_lh</th>\n",
       "      <th>r1_kills</th>\n",
       "      <th>r1_deaths</th>\n",
       "      <th>r1_items</th>\n",
       "      <th>...</th>\n",
       "      <th>radiant_ward_sentry_count</th>\n",
       "      <th>radiant_first_ward_time</th>\n",
       "      <th>dire_bottle_time</th>\n",
       "      <th>dire_courier_time</th>\n",
       "      <th>dire_flying_courier_time</th>\n",
       "      <th>dire_tpscroll_count</th>\n",
       "      <th>dire_boots_count</th>\n",
       "      <th>dire_ward_observer_count</th>\n",
       "      <th>dire_ward_sentry_count</th>\n",
       "      <th>dire_first_ward_time</th>\n",
       "    </tr>\n",
       "    <tr>\n",
       "      <th>match_id</th>\n",
       "      <th></th>\n",
       "      <th></th>\n",
       "      <th></th>\n",
       "      <th></th>\n",
       "      <th></th>\n",
       "      <th></th>\n",
       "      <th></th>\n",
       "      <th></th>\n",
       "      <th></th>\n",
       "      <th></th>\n",
       "      <th></th>\n",
       "      <th></th>\n",
       "      <th></th>\n",
       "      <th></th>\n",
       "      <th></th>\n",
       "      <th></th>\n",
       "      <th></th>\n",
       "      <th></th>\n",
       "      <th></th>\n",
       "      <th></th>\n",
       "      <th></th>\n",
       "    </tr>\n",
       "  </thead>\n",
       "  <tbody>\n",
       "    <tr>\n",
       "      <th>6</th>\n",
       "      <td>1430287923</td>\n",
       "      <td>0</td>\n",
       "      <td>93</td>\n",
       "      <td>4</td>\n",
       "      <td>1103</td>\n",
       "      <td>1089</td>\n",
       "      <td>8</td>\n",
       "      <td>0</td>\n",
       "      <td>1</td>\n",
       "      <td>9</td>\n",
       "      <td>...</td>\n",
       "      <td>0</td>\n",
       "      <td>12.0</td>\n",
       "      <td>247.0</td>\n",
       "      <td>-86.0</td>\n",
       "      <td>272.0</td>\n",
       "      <td>3</td>\n",
       "      <td>4</td>\n",
       "      <td>2</td>\n",
       "      <td>0</td>\n",
       "      <td>118.0</td>\n",
       "    </tr>\n",
       "    <tr>\n",
       "      <th>7</th>\n",
       "      <td>1430293357</td>\n",
       "      <td>1</td>\n",
       "      <td>20</td>\n",
       "      <td>2</td>\n",
       "      <td>556</td>\n",
       "      <td>570</td>\n",
       "      <td>1</td>\n",
       "      <td>0</td>\n",
       "      <td>0</td>\n",
       "      <td>9</td>\n",
       "      <td>...</td>\n",
       "      <td>2</td>\n",
       "      <td>-29.0</td>\n",
       "      <td>168.0</td>\n",
       "      <td>-54.0</td>\n",
       "      <td>0.0</td>\n",
       "      <td>3</td>\n",
       "      <td>2</td>\n",
       "      <td>2</td>\n",
       "      <td>1</td>\n",
       "      <td>16.0</td>\n",
       "    </tr>\n",
       "    <tr>\n",
       "      <th>10</th>\n",
       "      <td>1430301774</td>\n",
       "      <td>1</td>\n",
       "      <td>112</td>\n",
       "      <td>2</td>\n",
       "      <td>751</td>\n",
       "      <td>808</td>\n",
       "      <td>1</td>\n",
       "      <td>0</td>\n",
       "      <td>0</td>\n",
       "      <td>13</td>\n",
       "      <td>...</td>\n",
       "      <td>1</td>\n",
       "      <td>-22.0</td>\n",
       "      <td>46.0</td>\n",
       "      <td>-87.0</td>\n",
       "      <td>186.0</td>\n",
       "      <td>1</td>\n",
       "      <td>3</td>\n",
       "      <td>3</td>\n",
       "      <td>0</td>\n",
       "      <td>-34.0</td>\n",
       "    </tr>\n",
       "    <tr>\n",
       "      <th>13</th>\n",
       "      <td>1430323933</td>\n",
       "      <td>1</td>\n",
       "      <td>27</td>\n",
       "      <td>3</td>\n",
       "      <td>708</td>\n",
       "      <td>903</td>\n",
       "      <td>1</td>\n",
       "      <td>1</td>\n",
       "      <td>1</td>\n",
       "      <td>11</td>\n",
       "      <td>...</td>\n",
       "      <td>2</td>\n",
       "      <td>-49.0</td>\n",
       "      <td>30.0</td>\n",
       "      <td>-89.0</td>\n",
       "      <td>210.0</td>\n",
       "      <td>3</td>\n",
       "      <td>4</td>\n",
       "      <td>2</td>\n",
       "      <td>1</td>\n",
       "      <td>-26.0</td>\n",
       "    </tr>\n",
       "    <tr>\n",
       "      <th>16</th>\n",
       "      <td>1430331112</td>\n",
       "      <td>1</td>\n",
       "      <td>39</td>\n",
       "      <td>4</td>\n",
       "      <td>1259</td>\n",
       "      <td>661</td>\n",
       "      <td>4</td>\n",
       "      <td>0</td>\n",
       "      <td>0</td>\n",
       "      <td>9</td>\n",
       "      <td>...</td>\n",
       "      <td>0</td>\n",
       "      <td>36.0</td>\n",
       "      <td>180.0</td>\n",
       "      <td>-86.0</td>\n",
       "      <td>180.0</td>\n",
       "      <td>1</td>\n",
       "      <td>3</td>\n",
       "      <td>2</td>\n",
       "      <td>1</td>\n",
       "      <td>-33.0</td>\n",
       "    </tr>\n",
       "    <tr>\n",
       "      <th>...</th>\n",
       "      <td>...</td>\n",
       "      <td>...</td>\n",
       "      <td>...</td>\n",
       "      <td>...</td>\n",
       "      <td>...</td>\n",
       "      <td>...</td>\n",
       "      <td>...</td>\n",
       "      <td>...</td>\n",
       "      <td>...</td>\n",
       "      <td>...</td>\n",
       "      <td>...</td>\n",
       "      <td>...</td>\n",
       "      <td>...</td>\n",
       "      <td>...</td>\n",
       "      <td>...</td>\n",
       "      <td>...</td>\n",
       "      <td>...</td>\n",
       "      <td>...</td>\n",
       "      <td>...</td>\n",
       "      <td>...</td>\n",
       "      <td>...</td>\n",
       "    </tr>\n",
       "    <tr>\n",
       "      <th>114369</th>\n",
       "      <td>1450212780</td>\n",
       "      <td>7</td>\n",
       "      <td>11</td>\n",
       "      <td>5</td>\n",
       "      <td>2054</td>\n",
       "      <td>1941</td>\n",
       "      <td>27</td>\n",
       "      <td>0</td>\n",
       "      <td>1</td>\n",
       "      <td>8</td>\n",
       "      <td>...</td>\n",
       "      <td>1</td>\n",
       "      <td>8.0</td>\n",
       "      <td>253.0</td>\n",
       "      <td>-87.0</td>\n",
       "      <td>0.0</td>\n",
       "      <td>4</td>\n",
       "      <td>3</td>\n",
       "      <td>2</td>\n",
       "      <td>1</td>\n",
       "      <td>-33.0</td>\n",
       "    </tr>\n",
       "    <tr>\n",
       "      <th>114377</th>\n",
       "      <td>1450222875</td>\n",
       "      <td>1</td>\n",
       "      <td>3</td>\n",
       "      <td>3</td>\n",
       "      <td>748</td>\n",
       "      <td>605</td>\n",
       "      <td>1</td>\n",
       "      <td>0</td>\n",
       "      <td>0</td>\n",
       "      <td>12</td>\n",
       "      <td>...</td>\n",
       "      <td>1</td>\n",
       "      <td>-1.0</td>\n",
       "      <td>133.0</td>\n",
       "      <td>-85.0</td>\n",
       "      <td>184.0</td>\n",
       "      <td>2</td>\n",
       "      <td>3</td>\n",
       "      <td>4</td>\n",
       "      <td>1</td>\n",
       "      <td>-18.0</td>\n",
       "    </tr>\n",
       "    <tr>\n",
       "      <th>114378</th>\n",
       "      <td>1450223593</td>\n",
       "      <td>1</td>\n",
       "      <td>85</td>\n",
       "      <td>2</td>\n",
       "      <td>575</td>\n",
       "      <td>499</td>\n",
       "      <td>0</td>\n",
       "      <td>0</td>\n",
       "      <td>0</td>\n",
       "      <td>8</td>\n",
       "      <td>...</td>\n",
       "      <td>0</td>\n",
       "      <td>20.0</td>\n",
       "      <td>133.0</td>\n",
       "      <td>-88.0</td>\n",
       "      <td>239.0</td>\n",
       "      <td>4</td>\n",
       "      <td>4</td>\n",
       "      <td>4</td>\n",
       "      <td>0</td>\n",
       "      <td>-36.0</td>\n",
       "    </tr>\n",
       "    <tr>\n",
       "      <th>114393</th>\n",
       "      <td>1450244771</td>\n",
       "      <td>0</td>\n",
       "      <td>7</td>\n",
       "      <td>4</td>\n",
       "      <td>1844</td>\n",
       "      <td>1176</td>\n",
       "      <td>8</td>\n",
       "      <td>1</td>\n",
       "      <td>2</td>\n",
       "      <td>8</td>\n",
       "      <td>...</td>\n",
       "      <td>0</td>\n",
       "      <td>-28.0</td>\n",
       "      <td>0.0</td>\n",
       "      <td>-83.0</td>\n",
       "      <td>0.0</td>\n",
       "      <td>1</td>\n",
       "      <td>4</td>\n",
       "      <td>1</td>\n",
       "      <td>0</td>\n",
       "      <td>0.0</td>\n",
       "    </tr>\n",
       "    <tr>\n",
       "      <th>114398</th>\n",
       "      <td>1450255429</td>\n",
       "      <td>1</td>\n",
       "      <td>8</td>\n",
       "      <td>4</td>\n",
       "      <td>1215</td>\n",
       "      <td>1305</td>\n",
       "      <td>13</td>\n",
       "      <td>0</td>\n",
       "      <td>0</td>\n",
       "      <td>10</td>\n",
       "      <td>...</td>\n",
       "      <td>2</td>\n",
       "      <td>38.0</td>\n",
       "      <td>124.0</td>\n",
       "      <td>-82.0</td>\n",
       "      <td>249.0</td>\n",
       "      <td>4</td>\n",
       "      <td>2</td>\n",
       "      <td>2</td>\n",
       "      <td>0</td>\n",
       "      <td>27.0</td>\n",
       "    </tr>\n",
       "  </tbody>\n",
       "</table>\n",
       "<p>17177 rows × 102 columns</p>\n",
       "</div>"
      ],
      "text/plain": [
       "          start_time  lobby_type  r1_hero  r1_level  r1_xp  r1_gold  r1_lh  \\\n",
       "match_id                                                                     \n",
       "6         1430287923           0       93         4   1103     1089      8   \n",
       "7         1430293357           1       20         2    556      570      1   \n",
       "10        1430301774           1      112         2    751      808      1   \n",
       "13        1430323933           1       27         3    708      903      1   \n",
       "16        1430331112           1       39         4   1259      661      4   \n",
       "...              ...         ...      ...       ...    ...      ...    ...   \n",
       "114369    1450212780           7       11         5   2054     1941     27   \n",
       "114377    1450222875           1        3         3    748      605      1   \n",
       "114378    1450223593           1       85         2    575      499      0   \n",
       "114393    1450244771           0        7         4   1844     1176      8   \n",
       "114398    1450255429           1        8         4   1215     1305     13   \n",
       "\n",
       "          r1_kills  r1_deaths  r1_items  ...  radiant_ward_sentry_count  \\\n",
       "match_id                                 ...                              \n",
       "6                0          1         9  ...                          0   \n",
       "7                0          0         9  ...                          2   \n",
       "10               0          0        13  ...                          1   \n",
       "13               1          1        11  ...                          2   \n",
       "16               0          0         9  ...                          0   \n",
       "...            ...        ...       ...  ...                        ...   \n",
       "114369           0          1         8  ...                          1   \n",
       "114377           0          0        12  ...                          1   \n",
       "114378           0          0         8  ...                          0   \n",
       "114393           1          2         8  ...                          0   \n",
       "114398           0          0        10  ...                          2   \n",
       "\n",
       "          radiant_first_ward_time  dire_bottle_time  dire_courier_time  \\\n",
       "match_id                                                                 \n",
       "6                            12.0             247.0              -86.0   \n",
       "7                           -29.0             168.0              -54.0   \n",
       "10                          -22.0              46.0              -87.0   \n",
       "13                          -49.0              30.0              -89.0   \n",
       "16                           36.0             180.0              -86.0   \n",
       "...                           ...               ...                ...   \n",
       "114369                        8.0             253.0              -87.0   \n",
       "114377                       -1.0             133.0              -85.0   \n",
       "114378                       20.0             133.0              -88.0   \n",
       "114393                      -28.0               0.0              -83.0   \n",
       "114398                       38.0             124.0              -82.0   \n",
       "\n",
       "          dire_flying_courier_time  dire_tpscroll_count  dire_boots_count  \\\n",
       "match_id                                                                    \n",
       "6                            272.0                    3                 4   \n",
       "7                              0.0                    3                 2   \n",
       "10                           186.0                    1                 3   \n",
       "13                           210.0                    3                 4   \n",
       "16                           180.0                    1                 3   \n",
       "...                            ...                  ...               ...   \n",
       "114369                         0.0                    4                 3   \n",
       "114377                       184.0                    2                 3   \n",
       "114378                       239.0                    4                 4   \n",
       "114393                         0.0                    1                 4   \n",
       "114398                       249.0                    4                 2   \n",
       "\n",
       "          dire_ward_observer_count  dire_ward_sentry_count  \\\n",
       "match_id                                                     \n",
       "6                                2                       0   \n",
       "7                                2                       1   \n",
       "10                               3                       0   \n",
       "13                               2                       1   \n",
       "16                               2                       1   \n",
       "...                            ...                     ...   \n",
       "114369                           2                       1   \n",
       "114377                           4                       1   \n",
       "114378                           4                       0   \n",
       "114393                           1                       0   \n",
       "114398                           2                       0   \n",
       "\n",
       "          dire_first_ward_time  \n",
       "match_id                        \n",
       "6                        118.0  \n",
       "7                         16.0  \n",
       "10                       -34.0  \n",
       "13                       -26.0  \n",
       "16                       -33.0  \n",
       "...                        ...  \n",
       "114369                   -33.0  \n",
       "114377                   -18.0  \n",
       "114378                   -36.0  \n",
       "114393                     0.0  \n",
       "114398                    27.0  \n",
       "\n",
       "[17177 rows x 102 columns]"
      ]
     },
     "execution_count": 66,
     "metadata": {},
     "output_type": "execute_result"
    }
   ],
   "source": [
    "test"
   ]
  },
  {
   "cell_type": "code",
   "execution_count": 67,
   "metadata": {},
   "outputs": [
    {
     "data": {
      "text/html": [
       "<div>\n",
       "<style scoped>\n",
       "    .dataframe tbody tr th:only-of-type {\n",
       "        vertical-align: middle;\n",
       "    }\n",
       "\n",
       "    .dataframe tbody tr th {\n",
       "        vertical-align: top;\n",
       "    }\n",
       "\n",
       "    .dataframe thead th {\n",
       "        text-align: right;\n",
       "    }\n",
       "</style>\n",
       "<table border=\"1\" class=\"dataframe\">\n",
       "  <thead>\n",
       "    <tr style=\"text-align: right;\">\n",
       "      <th></th>\n",
       "      <th>start_time</th>\n",
       "      <th>r1_level</th>\n",
       "      <th>r1_xp</th>\n",
       "      <th>r1_gold</th>\n",
       "      <th>r1_lh</th>\n",
       "      <th>r1_kills</th>\n",
       "      <th>r1_deaths</th>\n",
       "      <th>r1_items</th>\n",
       "      <th>r2_level</th>\n",
       "      <th>r2_xp</th>\n",
       "      <th>...</th>\n",
       "      <th>hero_102</th>\n",
       "      <th>hero_103</th>\n",
       "      <th>hero_104</th>\n",
       "      <th>hero_105</th>\n",
       "      <th>hero_106</th>\n",
       "      <th>hero_107</th>\n",
       "      <th>hero_108</th>\n",
       "      <th>hero_109</th>\n",
       "      <th>hero_110</th>\n",
       "      <th>hero_111</th>\n",
       "    </tr>\n",
       "    <tr>\n",
       "      <th>match_id</th>\n",
       "      <th></th>\n",
       "      <th></th>\n",
       "      <th></th>\n",
       "      <th></th>\n",
       "      <th></th>\n",
       "      <th></th>\n",
       "      <th></th>\n",
       "      <th></th>\n",
       "      <th></th>\n",
       "      <th></th>\n",
       "      <th></th>\n",
       "      <th></th>\n",
       "      <th></th>\n",
       "      <th></th>\n",
       "      <th></th>\n",
       "      <th></th>\n",
       "      <th></th>\n",
       "      <th></th>\n",
       "      <th></th>\n",
       "      <th></th>\n",
       "      <th></th>\n",
       "    </tr>\n",
       "  </thead>\n",
       "  <tbody>\n",
       "    <tr>\n",
       "      <th>6</th>\n",
       "      <td>-2.528200</td>\n",
       "      <td>0.501314</td>\n",
       "      <td>-0.230161</td>\n",
       "      <td>-0.126909</td>\n",
       "      <td>-0.357459</td>\n",
       "      <td>-0.537757</td>\n",
       "      <td>1.017574</td>\n",
       "      <td>0.291758</td>\n",
       "      <td>-0.332256</td>\n",
       "      <td>-0.011207</td>\n",
       "      <td>...</td>\n",
       "      <td>0.0</td>\n",
       "      <td>0.0</td>\n",
       "      <td>0.0</td>\n",
       "      <td>0.0</td>\n",
       "      <td>0.0</td>\n",
       "      <td>0.0</td>\n",
       "      <td>0.0</td>\n",
       "      <td>0.0</td>\n",
       "      <td>0.0</td>\n",
       "      <td>0.0</td>\n",
       "    </tr>\n",
       "    <tr>\n",
       "      <th>7</th>\n",
       "      <td>-2.527214</td>\n",
       "      <td>-1.297676</td>\n",
       "      <td>-1.195592</td>\n",
       "      <td>-1.245180</td>\n",
       "      <td>-1.131661</td>\n",
       "      <td>-0.537757</td>\n",
       "      <td>-0.578083</td>\n",
       "      <td>0.291758</td>\n",
       "      <td>0.578881</td>\n",
       "      <td>0.008600</td>\n",
       "      <td>...</td>\n",
       "      <td>0.0</td>\n",
       "      <td>0.0</td>\n",
       "      <td>0.0</td>\n",
       "      <td>0.0</td>\n",
       "      <td>0.0</td>\n",
       "      <td>0.0</td>\n",
       "      <td>0.0</td>\n",
       "      <td>0.0</td>\n",
       "      <td>0.0</td>\n",
       "      <td>0.0</td>\n",
       "    </tr>\n",
       "    <tr>\n",
       "      <th>10</th>\n",
       "      <td>-2.525688</td>\n",
       "      <td>-1.297676</td>\n",
       "      <td>-0.851426</td>\n",
       "      <td>-0.732370</td>\n",
       "      <td>-1.131661</td>\n",
       "      <td>-0.537757</td>\n",
       "      <td>-0.578083</td>\n",
       "      <td>1.893320</td>\n",
       "      <td>-1.243393</td>\n",
       "      <td>-1.383288</td>\n",
       "      <td>...</td>\n",
       "      <td>0.0</td>\n",
       "      <td>0.0</td>\n",
       "      <td>0.0</td>\n",
       "      <td>0.0</td>\n",
       "      <td>0.0</td>\n",
       "      <td>0.0</td>\n",
       "      <td>0.0</td>\n",
       "      <td>0.0</td>\n",
       "      <td>0.0</td>\n",
       "      <td>1.0</td>\n",
       "    </tr>\n",
       "    <tr>\n",
       "      <th>13</th>\n",
       "      <td>-2.521671</td>\n",
       "      <td>-0.398181</td>\n",
       "      <td>-0.927319</td>\n",
       "      <td>-0.527677</td>\n",
       "      <td>-1.131661</td>\n",
       "      <td>0.968527</td>\n",
       "      <td>1.017574</td>\n",
       "      <td>1.092539</td>\n",
       "      <td>-1.243393</td>\n",
       "      <td>-0.931329</td>\n",
       "      <td>...</td>\n",
       "      <td>0.0</td>\n",
       "      <td>0.0</td>\n",
       "      <td>0.0</td>\n",
       "      <td>0.0</td>\n",
       "      <td>0.0</td>\n",
       "      <td>0.0</td>\n",
       "      <td>0.0</td>\n",
       "      <td>-1.0</td>\n",
       "      <td>0.0</td>\n",
       "      <td>0.0</td>\n",
       "    </tr>\n",
       "    <tr>\n",
       "      <th>16</th>\n",
       "      <td>-2.520369</td>\n",
       "      <td>0.501314</td>\n",
       "      <td>0.045173</td>\n",
       "      <td>-1.049106</td>\n",
       "      <td>-0.799860</td>\n",
       "      <td>-0.537757</td>\n",
       "      <td>-0.578083</td>\n",
       "      <td>0.291758</td>\n",
       "      <td>1.490017</td>\n",
       "      <td>0.925122</td>\n",
       "      <td>...</td>\n",
       "      <td>0.0</td>\n",
       "      <td>0.0</td>\n",
       "      <td>0.0</td>\n",
       "      <td>0.0</td>\n",
       "      <td>0.0</td>\n",
       "      <td>0.0</td>\n",
       "      <td>0.0</td>\n",
       "      <td>0.0</td>\n",
       "      <td>0.0</td>\n",
       "      <td>0.0</td>\n",
       "    </tr>\n",
       "  </tbody>\n",
       "</table>\n",
       "<p>5 rows × 203 columns</p>\n",
       "</div>"
      ],
      "text/plain": [
       "          start_time  r1_level     r1_xp   r1_gold     r1_lh  r1_kills  \\\n",
       "match_id                                                                 \n",
       "6          -2.528200  0.501314 -0.230161 -0.126909 -0.357459 -0.537757   \n",
       "7          -2.527214 -1.297676 -1.195592 -1.245180 -1.131661 -0.537757   \n",
       "10         -2.525688 -1.297676 -0.851426 -0.732370 -1.131661 -0.537757   \n",
       "13         -2.521671 -0.398181 -0.927319 -0.527677 -1.131661  0.968527   \n",
       "16         -2.520369  0.501314  0.045173 -1.049106 -0.799860 -0.537757   \n",
       "\n",
       "          r1_deaths  r1_items  r2_level     r2_xp  ...  hero_102  hero_103  \\\n",
       "match_id                                           ...                       \n",
       "6          1.017574  0.291758 -0.332256 -0.011207  ...       0.0       0.0   \n",
       "7         -0.578083  0.291758  0.578881  0.008600  ...       0.0       0.0   \n",
       "10        -0.578083  1.893320 -1.243393 -1.383288  ...       0.0       0.0   \n",
       "13         1.017574  1.092539 -1.243393 -0.931329  ...       0.0       0.0   \n",
       "16        -0.578083  0.291758  1.490017  0.925122  ...       0.0       0.0   \n",
       "\n",
       "          hero_104  hero_105  hero_106  hero_107  hero_108  hero_109  \\\n",
       "match_id                                                               \n",
       "6              0.0       0.0       0.0       0.0       0.0       0.0   \n",
       "7              0.0       0.0       0.0       0.0       0.0       0.0   \n",
       "10             0.0       0.0       0.0       0.0       0.0       0.0   \n",
       "13             0.0       0.0       0.0       0.0       0.0      -1.0   \n",
       "16             0.0       0.0       0.0       0.0       0.0       0.0   \n",
       "\n",
       "          hero_110  hero_111  \n",
       "match_id                      \n",
       "6              0.0       0.0  \n",
       "7              0.0       0.0  \n",
       "10             0.0       1.0  \n",
       "13             0.0       0.0  \n",
       "16             0.0       0.0  \n",
       "\n",
       "[5 rows x 203 columns]"
      ]
     },
     "execution_count": 67,
     "metadata": {},
     "output_type": "execute_result"
    }
   ],
   "source": [
    "X_test = pd.DataFrame(scaler.transform(test), index=test.index, columns=test.columns)\n",
    "X_test.drop(cat_columns, axis=1, inplace=True)\n",
    "X_test = pd.concat([X_test, get_pick(test)], axis=1)\n",
    "X_test.head()"
   ]
  },
  {
   "cell_type": "code",
   "execution_count": 71,
   "metadata": {},
   "outputs": [
    {
     "data": {
      "text/plain": [
       "0    0.808830\n",
       "1    0.756139\n",
       "2    0.176973\n",
       "3    0.861803\n",
       "4    0.232190\n",
       "dtype: float64"
      ]
     },
     "execution_count": 71,
     "metadata": {},
     "output_type": "execute_result"
    }
   ],
   "source": [
    "preds = pd.Series(model.predict_proba(X_test)[:, 1])\n",
    "preds.head()"
   ]
  },
  {
   "cell_type": "code",
   "execution_count": 69,
   "metadata": {},
   "outputs": [
    {
     "data": {
      "text/plain": [
       "<matplotlib.axes._subplots.AxesSubplot at 0x1257efdc0>"
      ]
     },
     "execution_count": 69,
     "metadata": {},
     "output_type": "execute_result"
    },
    {
     "data": {
      "image/png": "[encoded data removed]",
      "text/plain": [
       "<Figure size 432x288 with 1 Axes>"
      ]
     },
     "metadata": {
      "needs_background": "light"
     },
     "output_type": "display_data"
    }
   ],
   "source": [
    "preds.plot.hist(bins=30)"
   ]
  },
  {
   "cell_type": "code",
   "execution_count": null,
   "metadata": {},
   "outputs": [],
   "source": []
  }
 ],
 "metadata": {
  "kernelspec": {
   "display_name": "Python 3",
   "language": "python",
   "name": "python3"
  },
  "language_info": {
   "codemirror_mode": {
    "name": "ipython",
    "version": 3
   },
   "file_extension": ".py",
   "mimetype": "text/x-python",
   "name": "python",
   "nbconvert_exporter": "python",
   "pygments_lexer": "ipython3",
   "version": "3.8.3"
  }
 },
 "nbformat": 4,
 "nbformat_minor": 4
}
